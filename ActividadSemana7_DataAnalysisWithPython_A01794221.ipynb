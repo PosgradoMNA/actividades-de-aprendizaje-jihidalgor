{
  "nbformat": 4,
  "nbformat_minor": 0,
  "metadata": {
    "colab": {
      "provenance": [],
      "collapsed_sections": [],
      "authorship_tag": "ABX9TyPTA2R+DHV2Zd44mybHhOWd",
      "include_colab_link": true
    },
    "kernelspec": {
      "name": "python3",
      "display_name": "Python 3"
    },
    "language_info": {
      "name": "python"
    }
  },
  "cells": [
    {
      "cell_type": "markdown",
      "metadata": {
        "id": "view-in-github",
        "colab_type": "text"
      },
      "source": [
        "<a href=\"https://colab.research.google.com/github/PosgradoMNA/actividades-de-aprendizaje-jihidalgor/blob/main/ActividadSemana7_DataAnalysisWithPython_A01794221.ipynb\" target=\"_parent\"><img src=\"https://colab.research.google.com/assets/colab-badge.svg\" alt=\"Open In Colab\"/></a>"
      ]
    },
    {
      "cell_type": "markdown",
      "source": [
        "# **TC4029 - Ciencia y analítica de datos.**\n",
        "\n",
        "**Semana 7 - Data Analysis with Python (IBM).**\n",
        "\n",
        "**Módulo 4 - Model Development.**\n",
        "\n",
        "\n",
        "Alumno: Jorge Iván Hidalgo Reyes.\n",
        "\n",
        "*Matrícula: A01794221.*\n",
        "\n",
        "\n",
        "Profesora: María de la Paz Rico Fernández.\n",
        "\n",
        "Fecha: Octubre 27, 2022."
      ],
      "metadata": {
        "id": "ZyzBlBJUang1"
      }
    },
    {
      "cell_type": "markdown",
      "source": [
        "En este módulo se estudió sobre:\n",
        "\n",
        "* Regresión lineal simple/múltiple.\n",
        "* Evaluación del modelo mediante la visualización.\n",
        "* Regresión polinómica y pipelines.\n",
        "* R-cuadrado y MSE para la evaluación en la muestra.\n",
        "* Predicción y toma de decisiones.\n",
        "\n",
        "Un modelo o estimador puede considerarse como una ecuación matemática utilizada para predecir un valor dado uno o más valores. el objetivo es relacionar una o varias variables o características independientes con las variables dependientes.\n",
        "\n",
        "Normalmente, cuantos más datos relevantes se tengan, más preciso será el modelo."
      ],
      "metadata": {
        "id": "tW1IzozKbG1_"
      }
    },
    {
      "cell_type": "code",
      "source": [
        "import pandas as pd\n",
        "import numpy as np\n",
        "import matplotlib.pyplot as plt"
      ],
      "metadata": {
        "id": "QhmbpQTl6P86"
      },
      "execution_count": 1,
      "outputs": []
    },
    {
      "cell_type": "code",
      "source": [
        "url = 'https://cf-courses-data.s3.us.cloud-object-storage.appdomain.cloud/IBMDeveloperSkillsNetwork-DA0101EN-SkillsNetwork/labs/Data%20files/automobileEDA.csv'\n",
        "df = pd.read_csv(url)\n",
        "df.head()"
      ],
      "metadata": {
        "colab": {
          "base_uri": "https://localhost:8080/",
          "height": 386
        },
        "id": "wxakzGOY6bN6",
        "outputId": "178f91c1-7f84-4ee8-f2ce-b66a8a648f7c"
      },
      "execution_count": 2,
      "outputs": [
        {
          "output_type": "execute_result",
          "data": {
            "text/plain": [
              "   symboling  normalized-losses         make aspiration num-of-doors  \\\n",
              "0          3                122  alfa-romero        std          two   \n",
              "1          3                122  alfa-romero        std          two   \n",
              "2          1                122  alfa-romero        std          two   \n",
              "3          2                164         audi        std         four   \n",
              "4          2                164         audi        std         four   \n",
              "\n",
              "    body-style drive-wheels engine-location  wheel-base    length  ...  \\\n",
              "0  convertible          rwd           front        88.6  0.811148  ...   \n",
              "1  convertible          rwd           front        88.6  0.811148  ...   \n",
              "2    hatchback          rwd           front        94.5  0.822681  ...   \n",
              "3        sedan          fwd           front        99.8  0.848630  ...   \n",
              "4        sedan          4wd           front        99.4  0.848630  ...   \n",
              "\n",
              "   compression-ratio  horsepower  peak-rpm city-mpg highway-mpg    price  \\\n",
              "0                9.0       111.0    5000.0       21          27  13495.0   \n",
              "1                9.0       111.0    5000.0       21          27  16500.0   \n",
              "2                9.0       154.0    5000.0       19          26  16500.0   \n",
              "3               10.0       102.0    5500.0       24          30  13950.0   \n",
              "4                8.0       115.0    5500.0       18          22  17450.0   \n",
              "\n",
              "  city-L/100km  horsepower-binned  diesel  gas  \n",
              "0    11.190476             Medium       0    1  \n",
              "1    11.190476             Medium       0    1  \n",
              "2    12.368421             Medium       0    1  \n",
              "3     9.791667             Medium       0    1  \n",
              "4    13.055556             Medium       0    1  \n",
              "\n",
              "[5 rows x 29 columns]"
            ],
            "text/html": [
              "\n",
              "  <div id=\"df-233735b5-b3c0-4cf9-a66e-5892bf1f918c\">\n",
              "    <div class=\"colab-df-container\">\n",
              "      <div>\n",
              "<style scoped>\n",
              "    .dataframe tbody tr th:only-of-type {\n",
              "        vertical-align: middle;\n",
              "    }\n",
              "\n",
              "    .dataframe tbody tr th {\n",
              "        vertical-align: top;\n",
              "    }\n",
              "\n",
              "    .dataframe thead th {\n",
              "        text-align: right;\n",
              "    }\n",
              "</style>\n",
              "<table border=\"1\" class=\"dataframe\">\n",
              "  <thead>\n",
              "    <tr style=\"text-align: right;\">\n",
              "      <th></th>\n",
              "      <th>symboling</th>\n",
              "      <th>normalized-losses</th>\n",
              "      <th>make</th>\n",
              "      <th>aspiration</th>\n",
              "      <th>num-of-doors</th>\n",
              "      <th>body-style</th>\n",
              "      <th>drive-wheels</th>\n",
              "      <th>engine-location</th>\n",
              "      <th>wheel-base</th>\n",
              "      <th>length</th>\n",
              "      <th>...</th>\n",
              "      <th>compression-ratio</th>\n",
              "      <th>horsepower</th>\n",
              "      <th>peak-rpm</th>\n",
              "      <th>city-mpg</th>\n",
              "      <th>highway-mpg</th>\n",
              "      <th>price</th>\n",
              "      <th>city-L/100km</th>\n",
              "      <th>horsepower-binned</th>\n",
              "      <th>diesel</th>\n",
              "      <th>gas</th>\n",
              "    </tr>\n",
              "  </thead>\n",
              "  <tbody>\n",
              "    <tr>\n",
              "      <th>0</th>\n",
              "      <td>3</td>\n",
              "      <td>122</td>\n",
              "      <td>alfa-romero</td>\n",
              "      <td>std</td>\n",
              "      <td>two</td>\n",
              "      <td>convertible</td>\n",
              "      <td>rwd</td>\n",
              "      <td>front</td>\n",
              "      <td>88.6</td>\n",
              "      <td>0.811148</td>\n",
              "      <td>...</td>\n",
              "      <td>9.0</td>\n",
              "      <td>111.0</td>\n",
              "      <td>5000.0</td>\n",
              "      <td>21</td>\n",
              "      <td>27</td>\n",
              "      <td>13495.0</td>\n",
              "      <td>11.190476</td>\n",
              "      <td>Medium</td>\n",
              "      <td>0</td>\n",
              "      <td>1</td>\n",
              "    </tr>\n",
              "    <tr>\n",
              "      <th>1</th>\n",
              "      <td>3</td>\n",
              "      <td>122</td>\n",
              "      <td>alfa-romero</td>\n",
              "      <td>std</td>\n",
              "      <td>two</td>\n",
              "      <td>convertible</td>\n",
              "      <td>rwd</td>\n",
              "      <td>front</td>\n",
              "      <td>88.6</td>\n",
              "      <td>0.811148</td>\n",
              "      <td>...</td>\n",
              "      <td>9.0</td>\n",
              "      <td>111.0</td>\n",
              "      <td>5000.0</td>\n",
              "      <td>21</td>\n",
              "      <td>27</td>\n",
              "      <td>16500.0</td>\n",
              "      <td>11.190476</td>\n",
              "      <td>Medium</td>\n",
              "      <td>0</td>\n",
              "      <td>1</td>\n",
              "    </tr>\n",
              "    <tr>\n",
              "      <th>2</th>\n",
              "      <td>1</td>\n",
              "      <td>122</td>\n",
              "      <td>alfa-romero</td>\n",
              "      <td>std</td>\n",
              "      <td>two</td>\n",
              "      <td>hatchback</td>\n",
              "      <td>rwd</td>\n",
              "      <td>front</td>\n",
              "      <td>94.5</td>\n",
              "      <td>0.822681</td>\n",
              "      <td>...</td>\n",
              "      <td>9.0</td>\n",
              "      <td>154.0</td>\n",
              "      <td>5000.0</td>\n",
              "      <td>19</td>\n",
              "      <td>26</td>\n",
              "      <td>16500.0</td>\n",
              "      <td>12.368421</td>\n",
              "      <td>Medium</td>\n",
              "      <td>0</td>\n",
              "      <td>1</td>\n",
              "    </tr>\n",
              "    <tr>\n",
              "      <th>3</th>\n",
              "      <td>2</td>\n",
              "      <td>164</td>\n",
              "      <td>audi</td>\n",
              "      <td>std</td>\n",
              "      <td>four</td>\n",
              "      <td>sedan</td>\n",
              "      <td>fwd</td>\n",
              "      <td>front</td>\n",
              "      <td>99.8</td>\n",
              "      <td>0.848630</td>\n",
              "      <td>...</td>\n",
              "      <td>10.0</td>\n",
              "      <td>102.0</td>\n",
              "      <td>5500.0</td>\n",
              "      <td>24</td>\n",
              "      <td>30</td>\n",
              "      <td>13950.0</td>\n",
              "      <td>9.791667</td>\n",
              "      <td>Medium</td>\n",
              "      <td>0</td>\n",
              "      <td>1</td>\n",
              "    </tr>\n",
              "    <tr>\n",
              "      <th>4</th>\n",
              "      <td>2</td>\n",
              "      <td>164</td>\n",
              "      <td>audi</td>\n",
              "      <td>std</td>\n",
              "      <td>four</td>\n",
              "      <td>sedan</td>\n",
              "      <td>4wd</td>\n",
              "      <td>front</td>\n",
              "      <td>99.4</td>\n",
              "      <td>0.848630</td>\n",
              "      <td>...</td>\n",
              "      <td>8.0</td>\n",
              "      <td>115.0</td>\n",
              "      <td>5500.0</td>\n",
              "      <td>18</td>\n",
              "      <td>22</td>\n",
              "      <td>17450.0</td>\n",
              "      <td>13.055556</td>\n",
              "      <td>Medium</td>\n",
              "      <td>0</td>\n",
              "      <td>1</td>\n",
              "    </tr>\n",
              "  </tbody>\n",
              "</table>\n",
              "<p>5 rows × 29 columns</p>\n",
              "</div>\n",
              "      <button class=\"colab-df-convert\" onclick=\"convertToInteractive('df-233735b5-b3c0-4cf9-a66e-5892bf1f918c')\"\n",
              "              title=\"Convert this dataframe to an interactive table.\"\n",
              "              style=\"display:none;\">\n",
              "        \n",
              "  <svg xmlns=\"http://www.w3.org/2000/svg\" height=\"24px\"viewBox=\"0 0 24 24\"\n",
              "       width=\"24px\">\n",
              "    <path d=\"M0 0h24v24H0V0z\" fill=\"none\"/>\n",
              "    <path d=\"M18.56 5.44l.94 2.06.94-2.06 2.06-.94-2.06-.94-.94-2.06-.94 2.06-2.06.94zm-11 1L8.5 8.5l.94-2.06 2.06-.94-2.06-.94L8.5 2.5l-.94 2.06-2.06.94zm10 10l.94 2.06.94-2.06 2.06-.94-2.06-.94-.94-2.06-.94 2.06-2.06.94z\"/><path d=\"M17.41 7.96l-1.37-1.37c-.4-.4-.92-.59-1.43-.59-.52 0-1.04.2-1.43.59L10.3 9.45l-7.72 7.72c-.78.78-.78 2.05 0 2.83L4 21.41c.39.39.9.59 1.41.59.51 0 1.02-.2 1.41-.59l7.78-7.78 2.81-2.81c.8-.78.8-2.07 0-2.86zM5.41 20L4 18.59l7.72-7.72 1.47 1.35L5.41 20z\"/>\n",
              "  </svg>\n",
              "      </button>\n",
              "      \n",
              "  <style>\n",
              "    .colab-df-container {\n",
              "      display:flex;\n",
              "      flex-wrap:wrap;\n",
              "      gap: 12px;\n",
              "    }\n",
              "\n",
              "    .colab-df-convert {\n",
              "      background-color: #E8F0FE;\n",
              "      border: none;\n",
              "      border-radius: 50%;\n",
              "      cursor: pointer;\n",
              "      display: none;\n",
              "      fill: #1967D2;\n",
              "      height: 32px;\n",
              "      padding: 0 0 0 0;\n",
              "      width: 32px;\n",
              "    }\n",
              "\n",
              "    .colab-df-convert:hover {\n",
              "      background-color: #E2EBFA;\n",
              "      box-shadow: 0px 1px 2px rgba(60, 64, 67, 0.3), 0px 1px 3px 1px rgba(60, 64, 67, 0.15);\n",
              "      fill: #174EA6;\n",
              "    }\n",
              "\n",
              "    [theme=dark] .colab-df-convert {\n",
              "      background-color: #3B4455;\n",
              "      fill: #D2E3FC;\n",
              "    }\n",
              "\n",
              "    [theme=dark] .colab-df-convert:hover {\n",
              "      background-color: #434B5C;\n",
              "      box-shadow: 0px 1px 3px 1px rgba(0, 0, 0, 0.15);\n",
              "      filter: drop-shadow(0px 1px 2px rgba(0, 0, 0, 0.3));\n",
              "      fill: #FFFFFF;\n",
              "    }\n",
              "  </style>\n",
              "\n",
              "      <script>\n",
              "        const buttonEl =\n",
              "          document.querySelector('#df-233735b5-b3c0-4cf9-a66e-5892bf1f918c button.colab-df-convert');\n",
              "        buttonEl.style.display =\n",
              "          google.colab.kernel.accessAllowed ? 'block' : 'none';\n",
              "\n",
              "        async function convertToInteractive(key) {\n",
              "          const element = document.querySelector('#df-233735b5-b3c0-4cf9-a66e-5892bf1f918c');\n",
              "          const dataTable =\n",
              "            await google.colab.kernel.invokeFunction('convertToInteractive',\n",
              "                                                     [key], {});\n",
              "          if (!dataTable) return;\n",
              "\n",
              "          const docLinkHtml = 'Like what you see? Visit the ' +\n",
              "            '<a target=\"_blank\" href=https://colab.research.google.com/notebooks/data_table.ipynb>data table notebook</a>'\n",
              "            + ' to learn more about interactive tables.';\n",
              "          element.innerHTML = '';\n",
              "          dataTable['output_type'] = 'display_data';\n",
              "          await google.colab.output.renderOutput(dataTable, element);\n",
              "          const docLink = document.createElement('div');\n",
              "          docLink.innerHTML = docLinkHtml;\n",
              "          element.appendChild(docLink);\n",
              "        }\n",
              "      </script>\n",
              "    </div>\n",
              "  </div>\n",
              "  "
            ]
          },
          "metadata": {},
          "execution_count": 2
        }
      ]
    },
    {
      "cell_type": "code",
      "source": [
        "df.shape"
      ],
      "metadata": {
        "colab": {
          "base_uri": "https://localhost:8080/"
        },
        "id": "IfDAVpHtFqev",
        "outputId": "87dad143-9420-4b74-eb3f-cff64bf293ce"
      },
      "execution_count": 74,
      "outputs": [
        {
          "output_type": "execute_result",
          "data": {
            "text/plain": [
              "(201, 29)"
            ]
          },
          "metadata": {},
          "execution_count": 74
        }
      ]
    },
    {
      "cell_type": "markdown",
      "source": [
        "# **Linear and Multiple Linear Regression.**\n",
        "\n",
        "La *regresión lineal* se refiere a una variable independiente para hacer una predicción. La *regresión lineal múltiple* se refiere a múltiples variables independientes para hacer una predicción.\n",
        "\n",
        "La **regresión lineal simple** (o SLR por sus siglas en inglés) es un método que nos ayuda a entender la relación entre dos variables: La variable predictora (independiente) **x**, y la variable objetivo (dependiente) **y**.\n",
        "\n",
        "$\\hat{y} = b_{0} + b_{1}x$\n",
        "\n",
        "$b_{0}$ es la ordenada al origen.\n",
        "\n",
        "$b_{1}$ es la pendiente. \n",
        "\n",
        "Para ajustar un modelo lineal simple, primero definimos la variable predictora y la variable objetivo, posteriormente, utilizamos la función fit() para ajustar el modelo y finalmente, obtenremos una predicción con la función predict().\n",
        "\n",
        "La **regresión lineal múltiple** se utiliza para explicar la relación entre una variable continua objetivo (**y**), y dos o más variables predictoras (**X**).\n",
        "\n",
        "$\\hat{y} = b_0 + b_1x_1 + b_2x_2 + … + b_{k}x_{k}$\n",
        "\n",
        "$b_{0}$ es la ordenada al origen.\n",
        "\n",
        "$b_{1}$ es el coeficiente de $x_{1}$. \n",
        "\n",
        "$b_{2}$ es el coeficiente de $x_{2}$ y así, sucesivamente. "
      ],
      "metadata": {
        "id": "sW3hUUo6ciYU"
      }
    },
    {
      "cell_type": "markdown",
      "source": [
        ">> # Linear Regression."
      ],
      "metadata": {
        "id": "CYkgRRm79pmt"
      }
    },
    {
      "cell_type": "code",
      "source": [
        "from sklearn.linear_model import LinearRegression\n",
        "\n",
        "lm = LinearRegression()\n",
        "lm"
      ],
      "metadata": {
        "colab": {
          "base_uri": "https://localhost:8080/"
        },
        "id": "uWzSRKBa6gcC",
        "outputId": "d1bdd5a8-4346-4337-e4f9-e6791df4b6d5"
      },
      "execution_count": 3,
      "outputs": [
        {
          "output_type": "execute_result",
          "data": {
            "text/plain": [
              "LinearRegression()"
            ]
          },
          "metadata": {},
          "execution_count": 3
        }
      ]
    },
    {
      "cell_type": "code",
      "source": [
        "X = df[['highway-mpg']]\n",
        "Y = df['price']"
      ],
      "metadata": {
        "id": "Wd8HPGK16q5a"
      },
      "execution_count": 7,
      "outputs": []
    },
    {
      "cell_type": "code",
      "source": [
        "lm.fit(X,Y)"
      ],
      "metadata": {
        "colab": {
          "base_uri": "https://localhost:8080/"
        },
        "id": "18X6Y0iR64Wi",
        "outputId": "54255d73-563c-407f-dc8f-c3316da0f934"
      },
      "execution_count": 8,
      "outputs": [
        {
          "output_type": "execute_result",
          "data": {
            "text/plain": [
              "LinearRegression()"
            ]
          },
          "metadata": {},
          "execution_count": 8
        }
      ]
    },
    {
      "cell_type": "code",
      "source": [
        "Yhat = lm.predict(X)\n",
        "Yhat[0:5]"
      ],
      "metadata": {
        "colab": {
          "base_uri": "https://localhost:8080/"
        },
        "id": "G2pu-xLJ7CAn",
        "outputId": "841371ea-5d47-47fa-b0e5-174d7fd39220"
      },
      "execution_count": 75,
      "outputs": [
        {
          "output_type": "execute_result",
          "data": {
            "text/plain": [
              "array([[13728.4631336 ],\n",
              "       [13728.4631336 ],\n",
              "       [17399.38347881],\n",
              "       [10224.40280408],\n",
              "       [14729.62322775]])"
            ]
          },
          "metadata": {},
          "execution_count": 75
        }
      ]
    },
    {
      "cell_type": "code",
      "source": [
        "lm.intercept_"
      ],
      "metadata": {
        "colab": {
          "base_uri": "https://localhost:8080/"
        },
        "id": "9yHYW1E97MPJ",
        "outputId": "38f7ab6b-c810-43a0-9560-8cd4b4bfe184"
      },
      "execution_count": 11,
      "outputs": [
        {
          "output_type": "execute_result",
          "data": {
            "text/plain": [
              "38423.3058581574"
            ]
          },
          "metadata": {},
          "execution_count": 11
        }
      ]
    },
    {
      "cell_type": "code",
      "source": [
        "lm.coef_"
      ],
      "metadata": {
        "colab": {
          "base_uri": "https://localhost:8080/"
        },
        "id": "_uw3eGv97Ogy",
        "outputId": "57359aa4-1e24-4405-e798-318c3e105ffc"
      },
      "execution_count": 12,
      "outputs": [
        {
          "output_type": "execute_result",
          "data": {
            "text/plain": [
              "array([-821.73337832])"
            ]
          },
          "metadata": {},
          "execution_count": 12
        }
      ]
    },
    {
      "cell_type": "markdown",
      "source": [
        "**Pregunta 1.a**"
      ],
      "metadata": {
        "id": "97qBtRoP8Dwj"
      }
    },
    {
      "cell_type": "code",
      "source": [
        "lm1 = LinearRegression()"
      ],
      "metadata": {
        "id": "s36htMQ48Cg1"
      },
      "execution_count": 15,
      "outputs": []
    },
    {
      "cell_type": "markdown",
      "source": [
        "**Pregunta 1.b**"
      ],
      "metadata": {
        "id": "QffRVazx8KGI"
      }
    },
    {
      "cell_type": "code",
      "source": [
        "X = df[['engine-size']]\n",
        "Y = df [['price']]\n",
        "lm1.fit(X,Y)"
      ],
      "metadata": {
        "colab": {
          "base_uri": "https://localhost:8080/"
        },
        "id": "qhf2U6vO8Jp6",
        "outputId": "1c9cf689-311e-41b2-9e4f-a47ca98cdd28"
      },
      "execution_count": 16,
      "outputs": [
        {
          "output_type": "execute_result",
          "data": {
            "text/plain": [
              "LinearRegression()"
            ]
          },
          "metadata": {},
          "execution_count": 16
        }
      ]
    },
    {
      "cell_type": "markdown",
      "source": [
        "**Pregunta 1.c**"
      ],
      "metadata": {
        "id": "_smqsvYV8pWr"
      }
    },
    {
      "cell_type": "code",
      "source": [
        "lm1.coef_"
      ],
      "metadata": {
        "colab": {
          "base_uri": "https://localhost:8080/"
        },
        "id": "gwnjiYdK8sj7",
        "outputId": "2f552d52-524a-4afb-c46e-2cb5efe4a1b0"
      },
      "execution_count": 19,
      "outputs": [
        {
          "output_type": "execute_result",
          "data": {
            "text/plain": [
              "array([[166.86001569]])"
            ]
          },
          "metadata": {},
          "execution_count": 19
        }
      ]
    },
    {
      "cell_type": "code",
      "source": [
        "lm1.intercept_"
      ],
      "metadata": {
        "colab": {
          "base_uri": "https://localhost:8080/"
        },
        "id": "5qBilmpR85Oy",
        "outputId": "3274dce5-c69e-4bb8-c15a-17dba48989cb"
      },
      "execution_count": 20,
      "outputs": [
        {
          "output_type": "execute_result",
          "data": {
            "text/plain": [
              "array([-7963.33890628])"
            ]
          },
          "metadata": {},
          "execution_count": 20
        }
      ]
    },
    {
      "cell_type": "markdown",
      "source": [
        "**Pregunta 1.d**"
      ],
      "metadata": {
        "id": "6RcHqL8c9OUD"
      }
    },
    {
      "cell_type": "code",
      "source": [
        "Yest = -7963.34 + 166.86*X"
      ],
      "metadata": {
        "id": "rTaeAPui9Bkc"
      },
      "execution_count": 21,
      "outputs": []
    },
    {
      "cell_type": "markdown",
      "source": [
        ">> # Multiple Linear Regression.\n",
        "\n"
      ],
      "metadata": {
        "id": "3e2SZGyS9ugn"
      }
    },
    {
      "cell_type": "code",
      "source": [
        "Z = df[['horsepower', 'curb-weight', 'engine-size', 'highway-mpg']]"
      ],
      "metadata": {
        "id": "-iX8lQW_9g_J"
      },
      "execution_count": 22,
      "outputs": []
    },
    {
      "cell_type": "code",
      "source": [
        "lm.fit(Z, df['price'])"
      ],
      "metadata": {
        "colab": {
          "base_uri": "https://localhost:8080/"
        },
        "id": "756A70mD9j-p",
        "outputId": "d53d12f1-f41f-479f-bca6-1dee6f65fa25"
      },
      "execution_count": 23,
      "outputs": [
        {
          "output_type": "execute_result",
          "data": {
            "text/plain": [
              "LinearRegression()"
            ]
          },
          "metadata": {},
          "execution_count": 23
        }
      ]
    },
    {
      "cell_type": "code",
      "source": [
        "lm.intercept_"
      ],
      "metadata": {
        "colab": {
          "base_uri": "https://localhost:8080/"
        },
        "id": "uW6u8cv39mfP",
        "outputId": "2a4020da-4450-49f7-f4f3-23d9fc5b4573"
      },
      "execution_count": 24,
      "outputs": [
        {
          "output_type": "execute_result",
          "data": {
            "text/plain": [
              "-15806.62462632922"
            ]
          },
          "metadata": {},
          "execution_count": 24
        }
      ]
    },
    {
      "cell_type": "code",
      "source": [
        "lm.coef_"
      ],
      "metadata": {
        "colab": {
          "base_uri": "https://localhost:8080/"
        },
        "id": "0BVJVCGC9-mN",
        "outputId": "6588b067-8c10-4cdf-9ebb-d62e728e509a"
      },
      "execution_count": 25,
      "outputs": [
        {
          "output_type": "execute_result",
          "data": {
            "text/plain": [
              "array([53.49574423,  4.70770099, 81.53026382, 36.05748882])"
            ]
          },
          "metadata": {},
          "execution_count": 25
        }
      ]
    },
    {
      "cell_type": "markdown",
      "source": [
        "**Pregunta 2.a**"
      ],
      "metadata": {
        "id": "yZMHwQco-A4r"
      }
    },
    {
      "cell_type": "code",
      "source": [
        "lm2 = LinearRegression()\n",
        "lm2.fit(df[['normalized-losses' , 'highway-mpg']],df['price'])"
      ],
      "metadata": {
        "colab": {
          "base_uri": "https://localhost:8080/"
        },
        "id": "evscYW2m-CcL",
        "outputId": "285d6339-c547-4d6b-a334-755d4c6a0c8a"
      },
      "execution_count": 26,
      "outputs": [
        {
          "output_type": "execute_result",
          "data": {
            "text/plain": [
              "LinearRegression()"
            ]
          },
          "metadata": {},
          "execution_count": 26
        }
      ]
    },
    {
      "cell_type": "markdown",
      "source": [
        "**Pregunta 2.b**"
      ],
      "metadata": {
        "id": "kabK3MV0-EOi"
      }
    },
    {
      "cell_type": "code",
      "source": [
        "lm2.coef_"
      ],
      "metadata": {
        "colab": {
          "base_uri": "https://localhost:8080/"
        },
        "id": "TQiJFYJ_-HIp",
        "outputId": "fdfb526d-2263-4c06-a585-49a9c1f7aeeb"
      },
      "execution_count": 27,
      "outputs": [
        {
          "output_type": "execute_result",
          "data": {
            "text/plain": [
              "array([   1.49789586, -820.45434016])"
            ]
          },
          "metadata": {},
          "execution_count": 27
        }
      ]
    },
    {
      "cell_type": "markdown",
      "source": [
        "# **Model Evaluation using Visualization.**\n",
        "\n",
        "¿Por qué utilizar *regression plot*?\n",
        "\n",
        "Nos proporciona una buena estimación de:\n",
        "\n",
        "* La relación entre dos variables.\n",
        "* La intensidad de la correlación.\n",
        "* La dirección de la relación (positiva o negativa).\n",
        "\n",
        "El eje horizontal corresponde a la variable independiente y el eje vertical a la variable dependiente.\n",
        "\n",
        "El \"*residual plot*\" representa el error entre los valores reales y los estimados.\n",
        "\n",
        "Se puede emplear la librería \"*seaborn*\" para crear un \"*residual plot*\" mediante la función *residplot()*. El primer parámetro que recibe es una seire de la variable independiente o característica, mientras que el segundo parámetro es una serie de la variable dependiente u objetivo.\n",
        "\n",
        "Un \"*distribution plot*\" cuenta los valores estimados versus los valores reales. Este gráfico son muy útiles para visualizar modelos que tiene más de una variable independiente.\n"
      ],
      "metadata": {
        "id": "lcBQITXbgt8w"
      }
    },
    {
      "cell_type": "code",
      "source": [
        "import seaborn as sns\n",
        "%matplotlib inline "
      ],
      "metadata": {
        "id": "WFFmPdPC-LQ3"
      },
      "execution_count": 28,
      "outputs": []
    },
    {
      "cell_type": "markdown",
      "source": [
        ">> # Regression Plot."
      ],
      "metadata": {
        "id": "d-Vhf3P8-NuY"
      }
    },
    {
      "cell_type": "markdown",
      "source": [
        "Visualización de \"highway-mpg\" como una potencial variable predictora del precio:"
      ],
      "metadata": {
        "id": "S5JUyH-K-g15"
      }
    },
    {
      "cell_type": "code",
      "source": [
        "width = 12\n",
        "height = 10\n",
        "plt.figure(figsize=(width, height))\n",
        "sns.regplot(x=\"highway-mpg\", y=\"price\", data=df)\n",
        "plt.ylim(0,)"
      ],
      "metadata": {
        "colab": {
          "base_uri": "https://localhost:8080/",
          "height": 623
        },
        "id": "241HVNUn-M9w",
        "outputId": "212f05af-20fe-43cb-a5fc-f0c7d14f9bc2"
      },
      "execution_count": 29,
      "outputs": [
        {
          "output_type": "execute_result",
          "data": {
            "text/plain": [
              "(0.0, 48175.91219270947)"
            ]
          },
          "metadata": {},
          "execution_count": 29
        },
        {
          "output_type": "display_data",
          "data": {
            "text/plain": [
              "<Figure size 864x720 with 1 Axes>"
            ],
            "image/png": "[encoded data removed]"
          },
          "metadata": {
            "needs_background": "light"
          }
        }
      ]
    },
    {
      "cell_type": "code",
      "source": [
        "plt.figure(figsize=(width, height))\n",
        "sns.regplot(x=\"peak-rpm\", y=\"price\", data=df)\n",
        "plt.ylim(0,)"
      ],
      "metadata": {
        "colab": {
          "base_uri": "https://localhost:8080/",
          "height": 623
        },
        "id": "jqAOMKEd-Z7i",
        "outputId": "d05e1fd1-102a-4bb8-ff01-9a3ab5bf629b"
      },
      "execution_count": 30,
      "outputs": [
        {
          "output_type": "execute_result",
          "data": {
            "text/plain": [
              "(0.0, 47414.1)"
            ]
          },
          "metadata": {},
          "execution_count": 30
        },
        {
          "output_type": "display_data",
          "data": {
            "text/plain": [
              "<Figure size 864x720 with 1 Axes>"
            ],
            "image/png": "[encoded data removed]"
          },
          "metadata": {
            "needs_background": "light"
          }
        }
      ]
    },
    {
      "cell_type": "markdown",
      "source": [
        "**Pregunta 3.**"
      ],
      "metadata": {
        "id": "x-teKI2G-3ej"
      }
    },
    {
      "cell_type": "code",
      "source": [
        "df[[\"peak-rpm\",\"highway-mpg\",\"price\"]].corr()"
      ],
      "metadata": {
        "colab": {
          "base_uri": "https://localhost:8080/",
          "height": 143
        },
        "id": "iHir-Ruz-2lA",
        "outputId": "c7024e86-731f-43ea-d8ba-1880c32c407f"
      },
      "execution_count": 31,
      "outputs": [
        {
          "output_type": "execute_result",
          "data": {
            "text/plain": [
              "             peak-rpm  highway-mpg     price\n",
              "peak-rpm     1.000000    -0.058598 -0.101616\n",
              "highway-mpg -0.058598     1.000000 -0.704692\n",
              "price       -0.101616    -0.704692  1.000000"
            ],
            "text/html": [
              "\n",
              "  <div id=\"df-d23aac66-09c3-4e45-be2b-c4624fc66c38\">\n",
              "    <div class=\"colab-df-container\">\n",
              "      <div>\n",
              "<style scoped>\n",
              "    .dataframe tbody tr th:only-of-type {\n",
              "        vertical-align: middle;\n",
              "    }\n",
              "\n",
              "    .dataframe tbody tr th {\n",
              "        vertical-align: top;\n",
              "    }\n",
              "\n",
              "    .dataframe thead th {\n",
              "        text-align: right;\n",
              "    }\n",
              "</style>\n",
              "<table border=\"1\" class=\"dataframe\">\n",
              "  <thead>\n",
              "    <tr style=\"text-align: right;\">\n",
              "      <th></th>\n",
              "      <th>peak-rpm</th>\n",
              "      <th>highway-mpg</th>\n",
              "      <th>price</th>\n",
              "    </tr>\n",
              "  </thead>\n",
              "  <tbody>\n",
              "    <tr>\n",
              "      <th>peak-rpm</th>\n",
              "      <td>1.000000</td>\n",
              "      <td>-0.058598</td>\n",
              "      <td>-0.101616</td>\n",
              "    </tr>\n",
              "    <tr>\n",
              "      <th>highway-mpg</th>\n",
              "      <td>-0.058598</td>\n",
              "      <td>1.000000</td>\n",
              "      <td>-0.704692</td>\n",
              "    </tr>\n",
              "    <tr>\n",
              "      <th>price</th>\n",
              "      <td>-0.101616</td>\n",
              "      <td>-0.704692</td>\n",
              "      <td>1.000000</td>\n",
              "    </tr>\n",
              "  </tbody>\n",
              "</table>\n",
              "</div>\n",
              "      <button class=\"colab-df-convert\" onclick=\"convertToInteractive('df-d23aac66-09c3-4e45-be2b-c4624fc66c38')\"\n",
              "              title=\"Convert this dataframe to an interactive table.\"\n",
              "              style=\"display:none;\">\n",
              "        \n",
              "  <svg xmlns=\"http://www.w3.org/2000/svg\" height=\"24px\"viewBox=\"0 0 24 24\"\n",
              "       width=\"24px\">\n",
              "    <path d=\"M0 0h24v24H0V0z\" fill=\"none\"/>\n",
              "    <path d=\"M18.56 5.44l.94 2.06.94-2.06 2.06-.94-2.06-.94-.94-2.06-.94 2.06-2.06.94zm-11 1L8.5 8.5l.94-2.06 2.06-.94-2.06-.94L8.5 2.5l-.94 2.06-2.06.94zm10 10l.94 2.06.94-2.06 2.06-.94-2.06-.94-.94-2.06-.94 2.06-2.06.94z\"/><path d=\"M17.41 7.96l-1.37-1.37c-.4-.4-.92-.59-1.43-.59-.52 0-1.04.2-1.43.59L10.3 9.45l-7.72 7.72c-.78.78-.78 2.05 0 2.83L4 21.41c.39.39.9.59 1.41.59.51 0 1.02-.2 1.41-.59l7.78-7.78 2.81-2.81c.8-.78.8-2.07 0-2.86zM5.41 20L4 18.59l7.72-7.72 1.47 1.35L5.41 20z\"/>\n",
              "  </svg>\n",
              "      </button>\n",
              "      \n",
              "  <style>\n",
              "    .colab-df-container {\n",
              "      display:flex;\n",
              "      flex-wrap:wrap;\n",
              "      gap: 12px;\n",
              "    }\n",
              "\n",
              "    .colab-df-convert {\n",
              "      background-color: #E8F0FE;\n",
              "      border: none;\n",
              "      border-radius: 50%;\n",
              "      cursor: pointer;\n",
              "      display: none;\n",
              "      fill: #1967D2;\n",
              "      height: 32px;\n",
              "      padding: 0 0 0 0;\n",
              "      width: 32px;\n",
              "    }\n",
              "\n",
              "    .colab-df-convert:hover {\n",
              "      background-color: #E2EBFA;\n",
              "      box-shadow: 0px 1px 2px rgba(60, 64, 67, 0.3), 0px 1px 3px 1px rgba(60, 64, 67, 0.15);\n",
              "      fill: #174EA6;\n",
              "    }\n",
              "\n",
              "    [theme=dark] .colab-df-convert {\n",
              "      background-color: #3B4455;\n",
              "      fill: #D2E3FC;\n",
              "    }\n",
              "\n",
              "    [theme=dark] .colab-df-convert:hover {\n",
              "      background-color: #434B5C;\n",
              "      box-shadow: 0px 1px 3px 1px rgba(0, 0, 0, 0.15);\n",
              "      filter: drop-shadow(0px 1px 2px rgba(0, 0, 0, 0.3));\n",
              "      fill: #FFFFFF;\n",
              "    }\n",
              "  </style>\n",
              "\n",
              "      <script>\n",
              "        const buttonEl =\n",
              "          document.querySelector('#df-d23aac66-09c3-4e45-be2b-c4624fc66c38 button.colab-df-convert');\n",
              "        buttonEl.style.display =\n",
              "          google.colab.kernel.accessAllowed ? 'block' : 'none';\n",
              "\n",
              "        async function convertToInteractive(key) {\n",
              "          const element = document.querySelector('#df-d23aac66-09c3-4e45-be2b-c4624fc66c38');\n",
              "          const dataTable =\n",
              "            await google.colab.kernel.invokeFunction('convertToInteractive',\n",
              "                                                     [key], {});\n",
              "          if (!dataTable) return;\n",
              "\n",
              "          const docLinkHtml = 'Like what you see? Visit the ' +\n",
              "            '<a target=\"_blank\" href=https://colab.research.google.com/notebooks/data_table.ipynb>data table notebook</a>'\n",
              "            + ' to learn more about interactive tables.';\n",
              "          element.innerHTML = '';\n",
              "          dataTable['output_type'] = 'display_data';\n",
              "          await google.colab.output.renderOutput(dataTable, element);\n",
              "          const docLink = document.createElement('div');\n",
              "          docLink.innerHTML = docLinkHtml;\n",
              "          element.appendChild(docLink);\n",
              "        }\n",
              "      </script>\n",
              "    </div>\n",
              "  </div>\n",
              "  "
            ]
          },
          "metadata": {},
          "execution_count": 31
        }
      ]
    },
    {
      "cell_type": "markdown",
      "source": [
        ">> # Residual Plot."
      ],
      "metadata": {
        "id": "YRIt6RSg_Ipm"
      }
    },
    {
      "cell_type": "code",
      "source": [
        "width = 12\n",
        "height = 10\n",
        "plt.figure(figsize=(width, height))\n",
        "sns.residplot(x=df['highway-mpg'],y=df['price'])\n",
        "plt.show()"
      ],
      "metadata": {
        "colab": {
          "base_uri": "https://localhost:8080/",
          "height": 606
        },
        "id": "HIW6vnYx_U5F",
        "outputId": "1f00a736-3681-4f3f-d300-82c2cde8863e"
      },
      "execution_count": 32,
      "outputs": [
        {
          "output_type": "display_data",
          "data": {
            "text/plain": [
              "<Figure size 864x720 with 1 Axes>"
            ],
            "image/png": "[encoded data removed]"
          },
          "metadata": {
            "needs_background": "light"
          }
        }
      ]
    },
    {
      "cell_type": "markdown",
      "source": [
        ">> # Distribution plot. "
      ],
      "metadata": {
        "id": "z_F5FLn7_eAa"
      }
    },
    {
      "cell_type": "code",
      "source": [
        "Y_hat = lm.predict(Z)"
      ],
      "metadata": {
        "id": "CU3Fr2lW_j0h"
      },
      "execution_count": 33,
      "outputs": []
    },
    {
      "cell_type": "code",
      "source": [
        "plt.figure(figsize=(width, height))\n",
        "\n",
        "\n",
        "ax1 = sns.distplot(df['price'], hist=False, color=\"r\", label=\"Actual Value\")\n",
        "sns.distplot(Y_hat, hist=False, color=\"b\", label=\"Fitted Values\" , ax=ax1)\n",
        "\n",
        "\n",
        "plt.title('Actual vs Fitted Values for Price')\n",
        "plt.xlabel('Price (in dollars)')\n",
        "plt.ylabel('Proportion of Cars')\n",
        "\n",
        "plt.show()\n",
        "plt.close()"
      ],
      "metadata": {
        "colab": {
          "base_uri": "https://localhost:8080/",
          "height": 710
        },
        "id": "R1lwUdXM_lh3",
        "outputId": "a4c4e657-8fc3-4b90-e93a-795ba8f40bdb"
      },
      "execution_count": 39,
      "outputs": [
        {
          "output_type": "stream",
          "name": "stderr",
          "text": [
            "/usr/local/lib/python3.7/dist-packages/seaborn/distributions.py:2619: FutureWarning: `distplot` is a deprecated function and will be removed in a future version. Please adapt your code to use either `displot` (a figure-level function with similar flexibility) or `kdeplot` (an axes-level function for kernel density plots).\n",
            "  warnings.warn(msg, FutureWarning)\n",
            "/usr/local/lib/python3.7/dist-packages/seaborn/distributions.py:2619: FutureWarning: `distplot` is a deprecated function and will be removed in a future version. Please adapt your code to use either `displot` (a figure-level function with similar flexibility) or `kdeplot` (an axes-level function for kernel density plots).\n",
            "  warnings.warn(msg, FutureWarning)\n"
          ]
        },
        {
          "output_type": "display_data",
          "data": {
            "text/plain": [
              "<Figure size 864x720 with 1 Axes>"
            ],
            "image/png": "[encoded data removed]"
          },
          "metadata": {
            "needs_background": "light"
          }
        }
      ]
    },
    {
      "cell_type": "markdown",
      "source": [
        "# **Polynomial Regression and Pipelines.**\n",
        "\n",
        "La regresión polinomial es un caso especial de la regresión lineal general. Este método es de mucho beneficio para describir relaciones curvilíneas.\n",
        "\n",
        "El grado de la regresión marca una gran diferencia y puede dar lugar a un mejor ajuste si se elige\n",
        "el valor correcto.\n",
        "\n",
        "En Python, lo hacemos mediante la función *polyfit()*.\n",
        "\n",
        "Los \"*Pipelines*\" realizan secuencialmente una serie de transformaciones. Primero importamos todos los módulos que necesitamos, luego importamos la librería Pipeline. Creamos una lista de tuplas, el primer elemento de la tupla contiene el nombre del estimador\n",
        "modelo, el segundo elemento contiene el constructor del modelo. Y finalmente, introducimos la lista en el constructor de la tubería."
      ],
      "metadata": {
        "id": "bpOe96n3jhmh"
      }
    },
    {
      "cell_type": "code",
      "source": [
        "def PlotPolly(model, independent_variable, dependent_variabble, Name):\n",
        "    x_new = np.linspace(15, 55, 100)\n",
        "    y_new = model(x_new)\n",
        "\n",
        "    plt.plot(independent_variable, dependent_variabble, '.', x_new, y_new, '-')\n",
        "    plt.title('Polynomial Fit with Matplotlib for Price ~ Length')\n",
        "    ax = plt.gca()\n",
        "    ax.set_facecolor((0.898, 0.898, 0.898))\n",
        "    fig = plt.gcf()\n",
        "    plt.xlabel(Name)\n",
        "    plt.ylabel('Price of Cars')\n",
        "\n",
        "    plt.show()\n",
        "    plt.close()"
      ],
      "metadata": {
        "id": "pbNq4rsFAurJ"
      },
      "execution_count": 40,
      "outputs": []
    },
    {
      "cell_type": "code",
      "source": [
        "x = df['highway-mpg']\n",
        "y = df['price']"
      ],
      "metadata": {
        "id": "UJQTZT__Aw0X"
      },
      "execution_count": 41,
      "outputs": []
    },
    {
      "cell_type": "code",
      "source": [
        "f = np.polyfit(x, y, 3)\n",
        "p = np.poly1d(f)\n",
        "print(p)"
      ],
      "metadata": {
        "colab": {
          "base_uri": "https://localhost:8080/"
        },
        "id": "EwkYw7l0AyZX",
        "outputId": "72e12912-aec9-4cea-b0a4-65100edc28dd"
      },
      "execution_count": 42,
      "outputs": [
        {
          "output_type": "stream",
          "name": "stdout",
          "text": [
            "        3         2\n",
            "-1.557 x + 204.8 x - 8965 x + 1.379e+05\n"
          ]
        }
      ]
    },
    {
      "cell_type": "code",
      "source": [
        "PlotPolly(p, x, y, 'highway-mpg')"
      ],
      "metadata": {
        "colab": {
          "base_uri": "https://localhost:8080/",
          "height": 295
        },
        "id": "9DCbduV2A0hE",
        "outputId": "a68e12cb-89ff-437d-de6c-09e7d893f43d"
      },
      "execution_count": 43,
      "outputs": [
        {
          "output_type": "display_data",
          "data": {
            "text/plain": [
              "<Figure size 432x288 with 1 Axes>"
            ],
            "image/png": "[encoded data removed]"
          },
          "metadata": {
            "needs_background": "light"
          }
        }
      ]
    },
    {
      "cell_type": "code",
      "source": [
        "np.polyfit(x, y, 3)"
      ],
      "metadata": {
        "colab": {
          "base_uri": "https://localhost:8080/"
        },
        "id": "U7rg9cIXA22w",
        "outputId": "395f39e1-9a89-4539-bb07-2721b1f7bf3c"
      },
      "execution_count": 44,
      "outputs": [
        {
          "output_type": "execute_result",
          "data": {
            "text/plain": [
              "array([-1.55663829e+00,  2.04754306e+02, -8.96543312e+03,  1.37923594e+05])"
            ]
          },
          "metadata": {},
          "execution_count": 44
        }
      ]
    },
    {
      "cell_type": "markdown",
      "source": [
        "**Pregunta 4.**"
      ],
      "metadata": {
        "id": "O4oO74woBDwo"
      }
    },
    {
      "cell_type": "code",
      "source": [
        "f1 = np.polyfit(x, y, 11)\n",
        "p1 = np.poly1d(f1)\n",
        "print(p1)\n",
        "PlotPolly(p1,x,y, 'Highway MPG')"
      ],
      "metadata": {
        "colab": {
          "base_uri": "https://localhost:8080/",
          "height": 364
        },
        "id": "iGqxSqabBHs9",
        "outputId": "6c1927ef-75ee-4d9f-b5a4-627039d199bb"
      },
      "execution_count": 45,
      "outputs": [
        {
          "output_type": "stream",
          "name": "stdout",
          "text": [
            "            11             10             9           8         7\n",
            "-1.243e-08 x  + 4.722e-06 x  - 0.0008028 x + 0.08056 x - 5.297 x\n",
            "          6        5             4             3             2\n",
            " + 239.5 x - 7588 x + 1.684e+05 x - 2.565e+06 x + 2.551e+07 x - 1.491e+08 x + 3.879e+08\n"
          ]
        },
        {
          "output_type": "display_data",
          "data": {
            "text/plain": [
              "<Figure size 432x288 with 1 Axes>"
            ],
            "image/png": "[encoded data removed]"
          },
          "metadata": {
            "needs_background": "light"
          }
        }
      ]
    },
    {
      "cell_type": "code",
      "source": [
        "from sklearn.preprocessing import PolynomialFeatures"
      ],
      "metadata": {
        "id": "bDS-Ca1TBQMj"
      },
      "execution_count": 46,
      "outputs": []
    },
    {
      "cell_type": "code",
      "source": [
        "pr=PolynomialFeatures(degree=2)\n",
        "pr"
      ],
      "metadata": {
        "colab": {
          "base_uri": "https://localhost:8080/"
        },
        "id": "4v0c462tBQ2v",
        "outputId": "708d7b63-57cd-49a1-b29b-fc58f39b28a8"
      },
      "execution_count": 47,
      "outputs": [
        {
          "output_type": "execute_result",
          "data": {
            "text/plain": [
              "PolynomialFeatures()"
            ]
          },
          "metadata": {},
          "execution_count": 47
        }
      ]
    },
    {
      "cell_type": "code",
      "source": [
        "Z_pr=pr.fit_transform(Z)"
      ],
      "metadata": {
        "id": "0unM-jdxBSPl"
      },
      "execution_count": 48,
      "outputs": []
    },
    {
      "cell_type": "code",
      "source": [
        "Z.shape"
      ],
      "metadata": {
        "colab": {
          "base_uri": "https://localhost:8080/"
        },
        "id": "YOB4wcM7BUo9",
        "outputId": "06462866-f742-48bb-831b-0f4eb05a79bc"
      },
      "execution_count": 49,
      "outputs": [
        {
          "output_type": "execute_result",
          "data": {
            "text/plain": [
              "(201, 4)"
            ]
          },
          "metadata": {},
          "execution_count": 49
        }
      ]
    },
    {
      "cell_type": "code",
      "source": [
        "Z_pr.shape"
      ],
      "metadata": {
        "colab": {
          "base_uri": "https://localhost:8080/"
        },
        "id": "k4NhnRkdBWXB",
        "outputId": "9334c9d4-b71b-4c38-d7d9-7d7121752a77"
      },
      "execution_count": 50,
      "outputs": [
        {
          "output_type": "execute_result",
          "data": {
            "text/plain": [
              "(201, 15)"
            ]
          },
          "metadata": {},
          "execution_count": 50
        }
      ]
    },
    {
      "cell_type": "markdown",
      "source": [
        ">> # Pipeline."
      ],
      "metadata": {
        "id": "TA8lAGoGBXmP"
      }
    },
    {
      "cell_type": "code",
      "source": [
        "from sklearn.pipeline import Pipeline\n",
        "from sklearn.preprocessing import StandardScaler"
      ],
      "metadata": {
        "id": "_KMtXCmHBkCi"
      },
      "execution_count": 51,
      "outputs": []
    },
    {
      "cell_type": "code",
      "source": [
        "Input=[('scale',StandardScaler()), ('polynomial', PolynomialFeatures(include_bias=False)), ('model',LinearRegression())]"
      ],
      "metadata": {
        "id": "SeHVV1N9BmRm"
      },
      "execution_count": 52,
      "outputs": []
    },
    {
      "cell_type": "code",
      "source": [
        "pipe=Pipeline(Input)\n",
        "pipe"
      ],
      "metadata": {
        "colab": {
          "base_uri": "https://localhost:8080/"
        },
        "id": "G1DL1_RqBqOu",
        "outputId": "9b180070-942c-4466-ef75-c573bff9b61f"
      },
      "execution_count": 53,
      "outputs": [
        {
          "output_type": "execute_result",
          "data": {
            "text/plain": [
              "Pipeline(steps=[('scale', StandardScaler()),\n",
              "                ('polynomial', PolynomialFeatures(include_bias=False)),\n",
              "                ('model', LinearRegression())])"
            ]
          },
          "metadata": {},
          "execution_count": 53
        }
      ]
    },
    {
      "cell_type": "code",
      "source": [
        "Z = Z.astype(float)\n",
        "pipe.fit(Z,y)"
      ],
      "metadata": {
        "colab": {
          "base_uri": "https://localhost:8080/"
        },
        "id": "YN92iqcfBsrX",
        "outputId": "31cb3266-ee6a-474b-8774-c13ab52f661e"
      },
      "execution_count": 54,
      "outputs": [
        {
          "output_type": "execute_result",
          "data": {
            "text/plain": [
              "Pipeline(steps=[('scale', StandardScaler()),\n",
              "                ('polynomial', PolynomialFeatures(include_bias=False)),\n",
              "                ('model', LinearRegression())])"
            ]
          },
          "metadata": {},
          "execution_count": 54
        }
      ]
    },
    {
      "cell_type": "code",
      "source": [
        "ypipe=pipe.predict(Z)\n",
        "ypipe[0:4]"
      ],
      "metadata": {
        "colab": {
          "base_uri": "https://localhost:8080/"
        },
        "id": "wuNd0sZ9Bt6J",
        "outputId": "1d43ed77-5224-4896-bfac-128ba35c1ba3"
      },
      "execution_count": 55,
      "outputs": [
        {
          "output_type": "execute_result",
          "data": {
            "text/plain": [
              "array([13102.74784201, 13102.74784201, 18225.54572197, 10390.29636555])"
            ]
          },
          "metadata": {},
          "execution_count": 55
        }
      ]
    },
    {
      "cell_type": "markdown",
      "source": [
        "**Pregunta 5.**"
      ],
      "metadata": {
        "id": "oTTf0e7HByX-"
      }
    },
    {
      "cell_type": "code",
      "source": [
        "Input=[('scale',StandardScaler()),('model',LinearRegression())]\n",
        "\n",
        "pipe=Pipeline(Input)\n",
        "\n",
        "pipe.fit(Z,y)\n",
        "\n",
        "ypipe=pipe.predict(Z)\n",
        "ypipe[0:10]"
      ],
      "metadata": {
        "colab": {
          "base_uri": "https://localhost:8080/"
        },
        "id": "FVwhgnbAB0K0",
        "outputId": "96c3030c-f51b-467f-e359-6fa36a81440a"
      },
      "execution_count": 56,
      "outputs": [
        {
          "output_type": "execute_result",
          "data": {
            "text/plain": [
              "array([13699.11161184, 13699.11161184, 19051.65470233, 10620.36193015,\n",
              "       15521.31420211, 13869.66673213, 15456.16196732, 15974.00907672,\n",
              "       17612.35917161, 10722.32509097])"
            ]
          },
          "metadata": {},
          "execution_count": 56
        }
      ]
    },
    {
      "cell_type": "markdown",
      "source": [
        "# **Measures for In-Sample Evaluation.**\n",
        "\n",
        "Dos métricas importantes que se utilizan para determinar el ajuste de un modelo son el error cuadrático medio (MSE) y R-cuadrado. Para medir el MSE, encontramos la diferencia entre el valor real y y el valor predicho y que luego se eleva al cuadrado. Luego, elevamos el número al cuadrado y finalmente tomamos la media o el promedio de todos los errores sumándolos todos y dividiendo por el número de muestras.\n",
        "\n",
        "Para encontrar el MSE en Python, podemos importar el \"*mean_squared_error*()\" de \"*scikit-learn.metrics*\". La función \"*mean_Squared_error()*\" recibe dos entradas: el valor real de la variable objetivo\n",
        "y el valor estimado de la variable objetivo.\n",
        "\n",
        "El $R^2$ también se llama coeficiente de determinación. Es una medida para determinar\n",
        "que tan cerca están los datos de la línea de regresión ajustada. \n",
        "\n",
        "$R^2 = 1 - \\frac{MSE \\, de \\, la \\, línea \\, de \\, regresión}{MSE \\, del \\, promedio \\, de \\, los \\, datos}$\n",
        "\n",
        "Toma valores entre 0 y 1."
      ],
      "metadata": {
        "id": "zUqg2lHCmjod"
      }
    },
    {
      "cell_type": "markdown",
      "source": [
        ">> # Modelo 1: Regresión lineal simple."
      ],
      "metadata": {
        "id": "guZDwgqfCIRd"
      }
    },
    {
      "cell_type": "code",
      "source": [
        "#highway_mpg_fit\n",
        "lm.fit(X, Y)\n",
        "# Find the R^2\n",
        "print('The R-square is: ', lm.score(X, Y))"
      ],
      "metadata": {
        "colab": {
          "base_uri": "https://localhost:8080/"
        },
        "id": "OpO9YByWCB50",
        "outputId": "ed97f0c5-273e-44d3-d8b6-10a90271a411"
      },
      "execution_count": 57,
      "outputs": [
        {
          "output_type": "stream",
          "name": "stdout",
          "text": [
            "The R-square is:  0.7609686443622008\n"
          ]
        }
      ]
    },
    {
      "cell_type": "code",
      "source": [
        "Yhat=lm.predict(X)\n",
        "print('The output of the first four predicted value is: ', Yhat[0:4])"
      ],
      "metadata": {
        "colab": {
          "base_uri": "https://localhost:8080/"
        },
        "id": "sC3rMcIUCPsu",
        "outputId": "50451231-adec-4041-9ef8-72d3654461bd"
      },
      "execution_count": 58,
      "outputs": [
        {
          "output_type": "stream",
          "name": "stdout",
          "text": [
            "The output of the first four predicted value is:  [[13728.4631336 ]\n",
            " [13728.4631336 ]\n",
            " [17399.38347881]\n",
            " [10224.40280408]]\n"
          ]
        }
      ]
    },
    {
      "cell_type": "code",
      "source": [
        "from sklearn.metrics import mean_squared_error"
      ],
      "metadata": {
        "id": "08k2w3FlCQaC"
      },
      "execution_count": 59,
      "outputs": []
    },
    {
      "cell_type": "markdown",
      "source": [],
      "metadata": {
        "id": "Nbzk5atgCNsu"
      }
    },
    {
      "cell_type": "code",
      "source": [
        "mse = mean_squared_error(df['price'], Yhat)\n",
        "print('The mean square error of price and predicted value is: ', mse)"
      ],
      "metadata": {
        "colab": {
          "base_uri": "https://localhost:8080/"
        },
        "id": "2D_CqEgXCSLS",
        "outputId": "661d871e-4143-4474-9739-2ef25fc5173d"
      },
      "execution_count": 60,
      "outputs": [
        {
          "output_type": "stream",
          "name": "stdout",
          "text": [
            "The mean square error of price and predicted value is:  15021126.025174143\n"
          ]
        }
      ]
    },
    {
      "cell_type": "markdown",
      "source": [
        ">> # Modelo 2: Regresión lineal múltiple."
      ],
      "metadata": {
        "id": "PnxGqC6uCUEm"
      }
    },
    {
      "cell_type": "code",
      "source": [
        "# fit the model \n",
        "lm.fit(Z, df['price'])\n",
        "# Find the R^2\n",
        "print('The R-square is: ', lm.score(Z, df['price']))"
      ],
      "metadata": {
        "colab": {
          "base_uri": "https://localhost:8080/"
        },
        "id": "xH2QzivnCYI0",
        "outputId": "1a3b8f3a-6ec2-4ec8-a40b-9b653ec1a3fa"
      },
      "execution_count": 61,
      "outputs": [
        {
          "output_type": "stream",
          "name": "stdout",
          "text": [
            "The R-square is:  0.8093562806577457\n"
          ]
        }
      ]
    },
    {
      "cell_type": "code",
      "source": [
        "Y_predict_multifit = lm.predict(Z)"
      ],
      "metadata": {
        "id": "WTzTfXoVCaJ-"
      },
      "execution_count": 62,
      "outputs": []
    },
    {
      "cell_type": "code",
      "source": [
        "print('The mean square error of price and predicted value using multifit is: ', \\\n",
        "      mean_squared_error(df['price'], Y_predict_multifit))"
      ],
      "metadata": {
        "colab": {
          "base_uri": "https://localhost:8080/"
        },
        "id": "GrzWiSTkCdyB",
        "outputId": "f7311532-0fd9-4d7f-bf93-dca5d7364f2e"
      },
      "execution_count": 63,
      "outputs": [
        {
          "output_type": "stream",
          "name": "stdout",
          "text": [
            "The mean square error of price and predicted value using multifit is:  11980366.87072649\n"
          ]
        }
      ]
    },
    {
      "cell_type": "markdown",
      "source": [
        ">> # Modelo 3: Ajuste polinomial."
      ],
      "metadata": {
        "id": "d7ZbnPweCfy2"
      }
    },
    {
      "cell_type": "code",
      "source": [
        "from sklearn.metrics import r2_score"
      ],
      "metadata": {
        "id": "9IOvYBDfCkfw"
      },
      "execution_count": 64,
      "outputs": []
    },
    {
      "cell_type": "code",
      "source": [
        "r_squared = r2_score(y, p(x))\n",
        "print('The R-square value is: ', r_squared)"
      ],
      "metadata": {
        "colab": {
          "base_uri": "https://localhost:8080/"
        },
        "id": "6wsraIb4Cl-g",
        "outputId": "b322c3fe-5254-49f3-967c-a1d1d5807f5d"
      },
      "execution_count": 65,
      "outputs": [
        {
          "output_type": "stream",
          "name": "stdout",
          "text": [
            "The R-square value is:  0.674194666390652\n"
          ]
        }
      ]
    },
    {
      "cell_type": "markdown",
      "source": [
        ">> # MSE."
      ],
      "metadata": {
        "id": "TWb74Y3sCnay"
      }
    },
    {
      "cell_type": "code",
      "source": [
        "mean_squared_error(df['price'], p(x))"
      ],
      "metadata": {
        "colab": {
          "base_uri": "https://localhost:8080/"
        },
        "id": "c2JNO79MCpNn",
        "outputId": "7ed0fe0c-9bb5-4731-9420-2334a13bbdcb"
      },
      "execution_count": 66,
      "outputs": [
        {
          "output_type": "execute_result",
          "data": {
            "text/plain": [
              "20474146.426361218"
            ]
          },
          "metadata": {},
          "execution_count": 66
        }
      ]
    },
    {
      "cell_type": "markdown",
      "source": [
        "# **Prediction and Decision Making.**\n",
        "\n",
        "¿Cómo podemos determinar si nuestro modelo es correcto?\n",
        "\n",
        "Lo primero es asegurarse de que los resultados del modelo tienen sentido. Siempre se debe utilizar la visualización, las métricas numéricas para la evaluación y la comparación entre los diferentes modelos.\n",
        "\n",
        "A veces su modelo producirá valores que no tienen sentido.\n",
        "\n",
        "Para generar una secuencia de valores en un rango especificado, importa *Numpy*, luego usa la función \"*arrange*\" de Numpy para generar la secuencia. El primer parámetro es el punto inicial de la secuencia.\n",
        "El segundo parámetro es el punto final más uno de la secuencia. El último parámetro es el tamaño del paso entre los elementos de la secuencia.\n",
        "\n",
        "El MSE de un modelo MLR será menor que el MSE de un modelo SLR, ya que los errores de los datos disminuirán cuando se incluyan más variables en el modelo. La regresión polinomial también tendrá un MSE menor que la regresión normal."
      ],
      "metadata": {
        "id": "sEmQD7N0oyRq"
      }
    },
    {
      "cell_type": "code",
      "execution_count": 67,
      "metadata": {
        "id": "SMESPWuJYp_N"
      },
      "outputs": [],
      "source": [
        "import matplotlib.pyplot as plt\n",
        "import numpy as np\n",
        "\n",
        "%matplotlib inline "
      ]
    },
    {
      "cell_type": "code",
      "source": [
        "new_input=np.arange(1, 100, 1).reshape(-1, 1)"
      ],
      "metadata": {
        "id": "78SepxXGC3Gd"
      },
      "execution_count": 68,
      "outputs": []
    },
    {
      "cell_type": "code",
      "source": [
        "lm.fit(X, Y)\n",
        "lm"
      ],
      "metadata": {
        "colab": {
          "base_uri": "https://localhost:8080/"
        },
        "id": "ZMTsJ0aGC4vs",
        "outputId": "eabc815a-90f8-41de-e636-e1c8ce29b5c2"
      },
      "execution_count": 69,
      "outputs": [
        {
          "output_type": "execute_result",
          "data": {
            "text/plain": [
              "LinearRegression()"
            ]
          },
          "metadata": {},
          "execution_count": 69
        }
      ]
    },
    {
      "cell_type": "code",
      "source": [
        "yhat=lm.predict(new_input)\n",
        "yhat[0:5]"
      ],
      "metadata": {
        "colab": {
          "base_uri": "https://localhost:8080/"
        },
        "id": "VvHFCHTwC6Tw",
        "outputId": "00bf5738-2cc7-49ec-a3a3-ea7fa46c3edc"
      },
      "execution_count": 70,
      "outputs": [
        {
          "output_type": "stream",
          "name": "stderr",
          "text": [
            "/usr/local/lib/python3.7/dist-packages/sklearn/base.py:451: UserWarning: X does not have valid feature names, but LinearRegression was fitted with feature names\n",
            "  \"X does not have valid feature names, but\"\n"
          ]
        },
        {
          "output_type": "execute_result",
          "data": {
            "text/plain": [
              "array([[-7796.47889059],\n",
              "       [-7629.6188749 ],\n",
              "       [-7462.75885921],\n",
              "       [-7295.89884352],\n",
              "       [-7129.03882782]])"
            ]
          },
          "metadata": {},
          "execution_count": 70
        }
      ]
    },
    {
      "cell_type": "code",
      "source": [
        "plt.plot(new_input, yhat)\n",
        "plt.show()"
      ],
      "metadata": {
        "colab": {
          "base_uri": "https://localhost:8080/",
          "height": 265
        },
        "id": "B6QQyDIDC9Gk",
        "outputId": "c7aa7919-0365-4eea-8e5c-2541851094a0"
      },
      "execution_count": 71,
      "outputs": [
        {
          "output_type": "display_data",
          "data": {
            "text/plain": [
              "<Figure size 432x288 with 1 Axes>"
            ],
            "image/png": "[encoded data removed]"
          },
          "metadata": {
            "needs_background": "light"
          }
        }
      ]
    },
    {
      "cell_type": "markdown",
      "source": [
        "Ahora que se tiene la visualización de los diferentes modelos y se han generado los valores de $R^2$ y MSE para los modelos, ¿Cómo determinamos un buen ajuste del modelo?\n",
        "\n",
        "*¿Qué es un buen valor de $R^2$?*\n",
        "\n",
        "> Al comparar modelos, el modelo con el valor R-cuadrado más alto es el que mejor se ajusta a los datos.\n",
        "\n",
        "*¿Qué es un buen MSE?*\n",
        "\n",
        "> Al comparar modelos, el modelo con el menor valor de MSE es el que mejor se ajusta a los datos.\n",
        "\n"
      ],
      "metadata": {
        "id": "eDh9MbKbDHPe"
      }
    },
    {
      "cell_type": "markdown",
      "source": [
        "**SLR vs MLR.**\n",
        "\n",
        "Normalmente, cuantas más variables se tengan, mejor será el modelo de predicción. Sin embargo, esto no siempre es cierto. A veces puede que no tenga suficientes datos, que se encuentre con problemas numéricos o que muchas de las variables no sean útiles e incluso actúen como ruido. Por ello, siempre hay que comprobar el MSE y el $R^2$.\n",
        "\n",
        "Para comparar los resultados de los modelos MLR frente a SLR, nos tenemos que fijar en una combinación de $R^2$ y MSE para llegar a la mejor conclusión sobre el ajuste del modelo.\n",
        "\n",
        "El MSE de SLR es de 3,16x10^7 mientras que MLR tiene un MSE de 1,2 x10^7. El MSE de MLR es mucho menor.\n",
        "\n",
        "$R^2$: En este caso, también se puede ver que hay una gran diferencia entre el $R^2$ del SLR y el $R^2$ del MLR. El $R^2$ del SLR (0.497) es muy pequeño comparado con el $R^2$ del MLR (0.809).\n",
        "\n",
        "Esta métrica de $R^2$ en combinación con el MSE muestran que la MLR parece el mejor ajuste del modelo en este caso en comparación con la SLR."
      ],
      "metadata": {
        "id": "UCGORCAFEmEC"
      }
    },
    {
      "cell_type": "markdown",
      "source": [
        "**SLR vs Ajuste polinomial.**\n",
        "\n",
        "* MSE: Podemos ver que el ajuste polinómico redujo el MSE, ya que este MSE es menor que el del SLR.\n",
        "* R-cuadrado: El R-cuadrado del ajuste polinómico es mayor que el R-cuadrado del SLR, por lo que el ajuste polinómico también aumentó bastante el R-cuadrado.\n",
        "\n",
        "Dado que el ajuste polinómico dio lugar a un menor MSE y un mayor R-cuadrado, podemos concluir que este fue un modelo de mejor ajuste que la simple regresión lineal para predecir el \"precio\" con \"carretera-mpg\" como variable de predicción."
      ],
      "metadata": {
        "id": "zbK-RfA7EXKc"
      }
    },
    {
      "cell_type": "markdown",
      "source": [
        "**MLR vs Ajuste polinomial.**\n",
        "\n",
        "* El MSE de la MLR es menor que el MSE del ajuste polinómico.\n",
        "* El $R^2$ de la MLR es también mucho mayor que el del ajuste polinómico."
      ],
      "metadata": {
        "id": "vHCSwkC5Ej6w"
      }
    },
    {
      "cell_type": "markdown",
      "source": [
        "En conclusión, el modelo MLR es el mejor modelo para poder predecir el precio a partir de nuestro conjunto de datos. Este resultado tiene sentido ya que tenemos 27 variables en total y sabemos que más de una de esas variables son potenciales predictores del precio final del coche."
      ],
      "metadata": {
        "id": "RIeCp-TFE6Db"
      }
    },
    {
      "cell_type": "markdown",
      "source": [
        "# **Graded Review Questions.**"
      ],
      "metadata": {
        "id": "3oVlICC1I0Hn"
      }
    },
    {
      "cell_type": "markdown",
      "source": [
        "![uno.PNG](data:image/png;base64,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)"
      ],
      "metadata": {
        "id": "chjGytFYIVD5"
      }
    },
    {
      "cell_type": "markdown",
      "source": [
        "![dos.PNG](data:image/png;base64,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)"
      ],
      "metadata": {
        "id": "VgRp3-2qIXm2"
      }
    },
    {
      "cell_type": "markdown",
      "source": [
        "![tres.PNG](data:image/png;base64,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)"
      ],
      "metadata": {
        "id": "By0g0TAdIdg1"
      }
    },
    {
      "cell_type": "markdown",
      "source": [
        "![cuatro.PNG](data:image/png;base64,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)"
      ],
      "metadata": {
        "id": "sqfUilOnIjxf"
      }
    },
    {
      "cell_type": "markdown",
      "source": [
        "![cinco.PNG](data:image/png;base64,iVBORw0KGgoAAAANSUhEUgAAA3gAAAIGCAYAAAAGMS1LAAAAAXNSR0IArs4c6QAAAARnQU1BAACxjwv8YQUAAAAJcEhZcwAAFiUAABYlAUlSJPAAAFp0SURBVHhe7d1vryTXYR9ofYX9CoN8Aa5eeV8t8mL5ZglkLRgQ4gUFDiAEoM2EayQRAgsbiBGGwgY7oRLbkChvNKYgJmMqHpH0CpYYk4AsyQoJDc1IpEyT2Zi2nCFHtOSYULTMCqmtU1Vddf5Vdfe9fe/0rXkeoMhbXVXnX53urt9U374faAAAAFgFAQ8AAGAlBDwAAICVEPAAAABWQsADAABYCQEPAABgJe6ygPd+8/LnHmwe/NzL7U8AAADrcrKA97P3mje/erX52P0fau67997m3na578MPNh//reebt/7zsM9Req95/hP3Nfd98hvtT+fr5X/Rj1O+/Np3hh0AAABOaf+A995rzeMP3tfc+7cebK5++fnmtT97r3nvP7/VvPbCM83V7vGPNc/8xbDvHfTWFz/SPPzlW8PandYGy4/f2zz4r99sxyqM17S8/7NhFwAAgFPaM+C937z8Lz7U3PsLV5sXa3fqfnareeZX2pD3d55s3rqjwaVtx9+794gC3tCeZ380rAMAABzefgHvPz/ffPzee5uPfXUhqPzZl5qP3ntf8tHD7uOJf++ZNuakbn354ebee3+teXlY74SPf375U81Hf6ENim1d9/3Cw83VF94aNg5+9qPmxc9+rPnIsM+9932o+cg/vNo8/2fvt238RvOpzePj8nDzzNv9oV1b/kVSY9O8/WLz+D/88PBx0/uaD/2djzfXXsz7+HLza105fd0f/lt92fd9+GPN48W+ubeaJx/wcUwAAOBs7RfwvvNrbah5sPnS4kcwX2se/4V7m498cQpluwe899p9P9zc+4uPNM98/1b3Eca3vnOtefi++5qHn52Ofu2zH2rLe7x5uft4aLu8/Wbz4pefaaacFcJY/Q5eEfD+4pmu/Ad/4/nmzbdDebea1778SPPhNug98kIc3EKZH2oefPDB5pGnXm7e6j5i+Vbz8r98uA2GH22+9GfDblV9ewQ8AADgLO0V8Kp33Ar9xxHjELVzwOvu/n2oefx7w/rgrac+2tz7C4+30TH4UfPMr7QB8rfe7Nbqdg147zff+D/ua+79R7/Xlpp664tDneNHTfsyP/TZvhWTPtAufhz0v3yj+VS4M/jh9EtpPvXlN5v3/A4eAABwIEcV8H70bLt+X6X87s7hw80zP+xX32vXwx22Bx97pnk5fCyzsGvAa/e7b+Z34/7iS82D936kefI/DutDmZ/6el7fbr/vd+v7Lw5fSNPf+Xvtq7/WPNjW/eG2Lef9jZ4AAMA6HdVHNPv1/g5XuUy/R9d5++Xmmccebj7UhqTwe3qP/2Fc+h4Br92v+tHJt59pHk62ze178i90ef+bn2rui4IrAADAaZzRl6ykH7Pc6w7eA0822VeqLPvZj7rfmfvIffc1H/+3m3btEfDm7uD9xyebj1Tu4B0y4PUhMguuAAAAJ7RfwNv5zyR8KQlpr32uPebBL2UBL/zR8XBnLvpIZhcOPxqFqt29+H9WgtvWgLf/7+AdMuC998Ijzb33far5xn8ZHgAAADiFPQNeK/lD5y+O3zz55h8Of+j8Fx9pns8/wvm9x5sP3Xtf8/AXX2tuDb+D9uJvPNh85Bc/nAa8zbdotmU//sKbw75t2X/0e821z31jCGE/ar7xuWvN733/reH32d5rbn3/ye6bMKc7eP0fFr/3711rXuvaN/1B8TTgtRa+RXMqLzhFwPvek83Hf+v3mpff7L8ZtPvWz6f6u44nuvMHAABQsX/AC8Lfqvvq1eZj90/fCnnvvR9qHv7ci82tmW+FfOur8d+2+2jz8X/9cvPe6+FjkNmXqmzK/nC/b/d36e7/WHP1377V9F9v8n7z2lMfbx4ct/d/i+7qV99Mv6zkL55vPvV3hvb9rY83vzf8nlsR8IK3X2yu/eOPdr/Pt/x38E4Y8N7+RvP4P35w/Nt5oY4PP9TWkfzeIAAAwOmcLODl3mvDzy+2QesfPTMb8AAAADhbhwl4wfcfbz58r6/9BwAAuFMOF/Ba4Vsx7wu/a+f3ygAAAM7dQQMeAAAAd46ABwAAsBICHgAAwEoIeAAAACsh4AEAAKyEgAcAALASAh4AAMBKCHgAAAArIeABAACshIAHAACwEgIeAADASgh4AAAAKyHgAQAArISABwAAsBICHgAAwEoIeAAAACuxf8D74XPNI/ff3zzx3WE9FrZ94rnm9rD66rX7m/uj9YPo6n+ieXVYPZnbzXOfeKR57ofD6qF994nm/mt7tjA6JoxbdXwBAAAW7BfwQghpA9urX3ukGkBuj4+HABVCyqvNE4cOeLtq2zobktptj3ztDFt1yoDXRrzmiVOHWAAA4G5zoo9oTkEuFkJdHkqWA96r155onmvLuv/++7slDV0h5PSPh2WqLyrzh881T3ytXcb9hrtyISzlj0VevRY/1ofRaf926YJWW0/7/+4uZPtYV/9CuZv9un3bfk1hLS0/Hrf5Y/ptswEVAACg4nABL3x0MgoovW0BLw518ccm45+DODymAS/5uGZ0F6weQoMQHKdjwn5jG5KPmIb9FkJW3N/sjl0X3Ib1NKhFdS8c02m3n+ldRgAAYHUOFvDqd5y2Bbz0LtgUtsrjpvKjbXmojNYXA15U9mLAy9setg933Lplrq4xvFXuDg53/uaPGeTrAAAAWxwo4M0FubnHe8cQ8Lr1LHz1avtFdwuX6koCXnRMRMADAAAO7TABrw0j9Y8T5iEpFULbdNwJP6IZh6AsdM22aSaopZYDXih/DGBZGIu3pX2MLBzTmR1TAACAuoMEvPxO3GRbwGvLaZfNxxfTQBMC1ebOWvZ7bDsEvO7n7tiybWl703ruH0Nc2fYuhA37PRK+3CWqOwS5cdu1NpyN27KPaUZlzh/Tb0tCNAAAwBYnCniHMh8Mz9h4d6zyEcqjuHMWQmfWLgAAgC3uzoDXBbtQdxmk8ruTd4K7dwAAwEncpQEvEn4XbvPxybDEH/kEAAC4QO5owAMAAOBwBDwAAICVEPAAAABWQsADAABYCQEPAABgJQQ8AACAlRDwAAAAVkLAAwAAWAkBDwAAYCUEPAAAgJUQ8AAAAFZCwAMAAFgJAQ8AAGAlBDwAAICVEPAAAABWQsADAABYCQEPAABgJQQ8AACAlRDwAAAAVkLAAwAAWAkBDwAAYCUEvMLt5voDl5vrt4a1py43l5+63a9s89KV5tKjN4eV07jZXLl0pf1vaa/2cPHcut5cfuB6OwuPyMHm9V3kaMZs/rXkJMLrz6VLl9pleo0klr5/HI9jbdchbOvbYZ8DF8IZv48c9DokvFZ2rymXmisvDY/NSV5XL8p5PfLn3j7jf1LHeF1zFzhhwAtPrDOcDHfU7gEvbEvG4GAXdfELVzrW5xLwwpPxglzAdRecx/TCEcbuNHPgwC+ENx9tX7j3bM/ZzevQnjs3r8617pkx685Hfn5nnm8nmtvF/DvgRVDXzsOUdSfnwdlaf8ArXh/OyszzonQMAa9/n95cKHfLgV4zq7aNTdh+sPeRtm9ZWYe7Dgnjtse8POOAdzbXE+n8PMl78tnZc/xP6qDzkV2dKOB1T+52wh7PJD2k3QNeeKKefcBLHe6FlTNx2jlwBC+EZzev7+TF7znXPTtmoR2XoufwgdtV1HvAi6CDzc07OQ/O2rH27XDtKl4f7rhtfTt8EEiE51z0j7BH4ZDvI5WyDhvw9jg3yevbGZ/Xgznm17tzGkMB7444QcDbTNbKpA0nMflXrM3ECfvGjw8vht3+2eTKn8DtpLgZ/lVlc2zYltSTtqH7F5hx2/zETfebv+Cqv5DN9Kdr+/V0W3aR1/3rzWbb7ISPn3S19lxvt0/lTG8sYd/2uHF8hjLy8xLX27Y59G/Trr6v+ZM+rE/Hx+OR9CfbNkmPT89Lf45vD2+SU9vm60ycZr50fb+ZnK+8nrR/cbvLsX4+m1Nju7LxTy8E0n5eac/t1hfC0Od8n9pjrWT+5vMg6U9wlvM6nwOb85A/HrWpOz/53Oz7NO0/LItjPVd3Kp/L03mqzKt87PI59lQ8LzPdvv3x9deXQTfumzJmzk2kGJfu2ND3K217dm17WW6Ql10/F2m59fGsn4uwbzoO5evelZemMdi0cbb+rXN9I2tPcs76816+NqWSfnbPk3R+JdujMvo+pfXnY7/Psfk8Wm7X/LHzZW+bg/322cfycxKPZ/W5Htownbf0XMdtHuZKeM6N2+PznZaz1PfuORdtmzvnk1qfc2l9tTk2/9oyN+bLfSreR2af46H8tpxxe1xma2Y8wrnIr0OScczak24b5GVvxiVra3F+xvFbHoNpv2F+jHN/GNPoPHRzK6zn5S+em+G4uM6wROX20vr7sRv61NaXX4Pkx8+9Buz8Gjc3nnPjn0n7OPUjaVdR90nnY39cdb6wt/0DXvQESCZq8SSapPtFupNceUGJn2DJyR6emNFE6SbfZv9wbDyJ8vVZoZ5NOxaejIm+LckLe/eEKV9INvskbW3l65Pl9qRPprDvZns5PjXhiTm2u2tz1o+i/nh7tJ6cq92lY9qf47SchTpzSRv6svaaL3ucr3S+lmUH5TmNz09Qnq+4X92L5tY5G46Ly+yPq83TaazLY+rKNh12Xi+3YWpvqzY3wzmYO5+LY7297kRSTzg2Hd/levvxqY9Brzu+PR+LYT6a28m4LEjbFezb9oVxysa+a9/SeqwYz7SOcv6m87Vrc96u2fpPPtfLsdnhPMbbQxuidubb4/W+T3Ov5Yc9Nm1X3u90fbnscsxiRb3Ja2Zqv/ehXLytb1PR32S+pfvW+75U34yF/vXK8UrHKNQ5//wMP9ef90t9arcm7yNh32lupOvD2MXPo1wylr395kjZvkncjyBva/tI/NoQ2pKM3fwYxOOYlNG9FrXjGtU7zsWi/IXXzuz1MNmWCG2b+pSc027ex/1N+5GXOa2nZc7bMp7JGJa6+ipzo+hr8jwoz8V+83GXfrGLvQPe+EQIsgnencTaBO8mcWUS1V4cZ5/AvXRytqI2FNsqx9fFkyqdYMmTMVFO4rTtvWm8Kvtn4zeJ2729PVO/K3VUJGWENhdtiOqvnKPx+G7bCZ6MxTnOyliqM3eK+VI7X6Ge/rF03Hvx+NbHejp+UBnfcU5U+lk/H6W0nvl5Ho9bqDfvb6nSr8o4nXxeb5kvcV21scjbEu9T2X9q5w51J+IxrYzvlnYW86AQysxfrzJ5HTPnOFbWu3/bpzHLZOc17Je2v1LXKB/P9FyUZaXPv9p4LtUfti2Pf6s2T5PnZNnOVO01ID5m+bkRPzc3pj7te2w8XlvalfSxF5e3f9mx6RwEtT5uJNsq8zAvK5W3afPzRnweonIW+973ba69VZXyEtE5GyXHVPq40/N+uU/JeC4+x7edz1bl+MU5sjjGuaz/cd838r6M27MxWBrn6Li+LeGuWWV+zJW/EW9P9m2F9bwNnXR+FvM+LqO1eG6ifu70GlcpP21npY+jubmR9qcX7Xuq+cgh7RfwuhPXTqpsSU5MOHnd4/kECBOp33+c3HMTYZyQ5eQrJsI44fsJFrer3o7B2M58v3Tyzr8wVSZ/0vbe1N6p/+lSe3LF/d7enumxdN9JWffSC0xSfzFOwzIeE417Uc5GtE9xfHmOt9cZSdpfljU/X1q1vo+PhbLKsQzlLY11OBdxmd16pS9dGaGu7IUuad+i7BzVxqZVzJewb9eG2jwJ+nN1dvM6r3dhbtT6lY1ZPN6LY12tO1Uev+lDNNYbUdviNoxqbY/08yh8xGmhTUUZ01gn5zRStmWHtid9Xig/mZuV89YtU3+WxzPt9/S82kifX6Gscntc9maJyg39zB+Lhe3Fcy1uW2XsEmU/0naH7Xn7wtKXWfYpfmzfY/N6F9o1jku2RHNivux+3JPXh8z02hAfF5R9Gusp5noQ9o/Gv2h33KaF/sblbOl7EPrfP7507ge1a5jYSeZYMRbTuE3nJetTXkf0XJ36ky59WbWxy1TKX5wjO4zxJO1/19Z8v3iMk7HZMgbd9nycp3aOfYhf1+bK34i3Z3VW295JxzgZu6S+3l7vreH47rH6Odw6nrU+juLxi9UfH1/Ds3Hp7DwfOaS9Al4yMTcqE7STTKJYmOzDBK7sk07IcvJNk38QTZxi25xiAsZPwIUnYyLqx8bikzUtd1nc77I9tTr6NtbqKJ+MSZ+q5y+qPxrfbaZ2xLaNU3mO96lzW1lL86WcB/H4VtqdPFYb6/j4QXV8B7V+Vto0p+9brZ2T2fkb6s7HvbPtfPVOPq/jfbfUNTN2oe7xjSEeq6WxLupOlc+reC5V5uiWdpblRcL+C3NwNNuf+XO+3I/BlrbPyuZr8dyKbB/P9FyEstJ5mu5Tm8dL9Sfm5nrt8eSxytglanM/bvfyc6M2R6Zx2H5sOh7x/lvalZ3H3Payt4z7Zk4nc7s850k91XkYjX9SVrCtTXF9UTlb+p4o6qzZMh4nmWPVsQjiurb0KW77bHlBPI4zKuOwOEf2GeO8/7Uxn+1LNgb5OCaPDe17KWrb0M7wO3b1ebj93My+FyXSMd4276fXtR3OzUat/0E8dhvJY5U+jubqD4/ncz56rHb+4zorfeZs7BHw5k52mCBzj9cnzjSB82P7SbL0BCve1OPJVJvMNfl+YX1sR9rP8oVsozLJKxM3bm8oa7eJHfe7bE/6L4vxGNbOUT7GYT26mKo+2fL6s37OqI9Vfny/vnSO96kzbX9Z1tb5Uhmb2fOVvIjWxrpyTFdmuV+v7Gdo724vvq2u71f6L4IYHsrVz0kwV3Zl7A86r+OxyOvq18eyts7N3NJYL20r+9Ctj/VU6izmXdmv+piU7QhjWT1H1f73ink9qM+/fdq+IH/jDuXMzL3t45nWWbQ7lB3tE7YXY7RQf6oyBp1yrqftmDtusku7k+2Rbltcfvf6svux6XiEviwcm7Sr7HdsuezlY3v9uF1J5mh+zsP6Hu9D+bmu9Kfo77h/fB53af8gmu/lmESStuTK+tJzE7dtUB2L3vS8X+5T+T6y1L65bYN87FunnyMbef/Ltiavj8nYLI9B/hzo2ty2cWp33+bw2FjfbPmDbdur0jFOxq5yruPX9rwP8+basmU8t/Rhrv7i8eLa6AznIzvbPeBVnuQb/YT5fndSx3/NyC+Uo8eTiRHKHbe1Jzb8C8u4vZx88eTv1C464rqqbe4n4LhPW9/0d5kWnoy5qK6uTVuerMHiWIzifpftmf/mtfqTI62zLbdt59ILTDnu2Xht6txprFvJftvPcW+mzlzS/j3nS3ds+u2Q+blOxy4e2/pY920Y9k/atSkjK6d7YZy2Jd82NWyr9rvTj9Hs/GxN83fH8Qyi8zWe52yOnGxex/sNY7A0Nyr1BkVdyTmfH+ui7kR6XP87Gptyy3lVtC3vR/VbNOfOV193cT6iOnYd36Qf3T47tD0+pltq49PKX2uDpN/tMm5Py0zHs3YusvnZti/+W3lh/+o8r9a/x1zP9036Vxm7Qt7u8ls0585d36e5b0TuLR8bj0doR1zvtnbNj9HWsqMxnxvXvt3p2KV9abe15Yz1FHMyiMc/70/+nt2Xl5TfHRfk53Gu7/PPg/B6N/v+FmSv42GZxjCrb9sci8Zi7vwXxy29j3Tm+pad26qo/UOZe8+/dqnPlUr/87bG8yKZJ/mxS+Pc6sYo7WsxTxfLb2XztDg/RV+CdGySscvKC3Z7b911fIOF8az1MdPN/fH4ad+0XdkcOvF87B9P5xYntfeXrMBqVF5cL5bwYpi9sK5a/6aWv/gnb5hwQZi3cFF5L+L4CXjcvS56wLvwAXVf9UBb3KWFC8DFIFxU3os4fgIed6+LGpBCu7uPNSx/tGKVFj8KBReHgAcXmPcijpyABwAAsBICHgAAwEoIeAAAACsh4AEAAKyEgAcAALASAh4AAMBKCHgAAAArIeABAACshIAHAACwEgIeAADASgh4AAAAKyHgAQAArISABwAAsBICHgAAwEoIeAAAACsh4AEAAKyEgAcAALASAh4AAMBKCHgAAAArIeABAACshIAHAACwEgIeAADASgh4AAAAKyHgndZLV5pLj94cVi6gQ7f/TMfjdnP9gcvN9VvD6l1hjz5f9LkIAMCp7Rfwbl1vLj9wvb3kPA83myt71HX7qcvNpUuXuuXyU8NRob2X+ovjm49Gjx/SrhfVXVuutL2qafs6tH1cNmWG487yov2MA158XvrlNAHt9AGva0+YV9Hc6OTrFWEOdX1bPJeHdrKANz/f58sbx2ZYP0/d2B5snpyjHebNPubmZ3puwjncjNN5zUMA4KI43oC3Z13hAii/oA0XjVde6n8O2zc/H9TOAWkusPYXa7Ph89ABLHeWAS/8fNAL0NMGvBCko/bkfV8ai2Q+7vePD6dzsoA3P99PO4ZnI36udg4+dy6C5flZjFG+PwBA6xQBL1wothcX3YVY7V/da9uji5HuX6izi5PNBU1yTLt0dYaLmeixcenLKAJeVn5ywVstvxf2m7Zt+pPXHbV70+aNrt5p3+mCbC4UzF9wp21pl6Ge/G5HXsfN5LhsjJP2tfU+Fbd/uZ9hfDd1j2O9VF4+NoWsvq39K8cq2Tc7j1deCvtPZXTjmbQn1B+Xl69PQj3T/OrHuV/rf07GPNSRj0tcZjZH8nCf9OnR6zv3OR7vZL4n5udber4q/crmUjo/023z53AYu1BX2Da0P+yftjc/F2F9Ki8Zs01Z8dKVO7wGjeM9tXF2DLNzMx4z93jXrrjvaTuT+da28/JTN8c5mW/fOj9DP+O2FnUDAJw64JUXMNMFyJbt3QVTdnEStm/2Ly5mloWLo/iir7xY2pi/KOqO2aHOpK64zV3Z+UXpzMV0pKt3qU3VfgyScxLqSy9+0+Pz9lTOUaToZ1v28kV4Xl7Znkm/rR5CIsWcm+rLxyZe736utC2vL1zox+3L13t5P2N5H4cxiObR8jlI68z71I/7bn1O5+KcdAwTxVxOx6KoK36u5OuxyhzN21kEvKS8/NzF66G86LlTOS5v1/wYzo3Nwpgl9eftzOoKbZudk+WxQTof87mT9R0AoHXKgJdd9GzbHl+ghH3zi5NwATR3AblFuJCKL0brF+pBfyFVbqtfYFXl7Vxoc3HhOqcbj/ZiNAs9+cVoKb7Iq1zwbWnfYvlbjt21vDAG3d2KeN9aeVVxn+I5VTlf0fwr2xHNvUi+X3U8anN1VI55Mffi50U8phvjWNTmYNzu5T5Xyy7EY5hJjl+eS+Xzq7L/KN4W92cyzpHNEs+NyviH89TVH/c/SPatjefyGHbtqIzh3ONJ3/K2BHF7KucnlNu3pT4u6XzM27405gDA3eqcA170WHzhsxFfAIWfk4ulcDETXQCOS1/GeME3KC9AU92FU3T83AVWr7+wSuqN2zn8PJWZLkvtKA11xWWOF3i9sp64D/NjWisrvejcrZ8b28vLhG3DGFePHcz3L55T+82HufObt6PartpcHZVjPl20D6LnxXL5tTbu3ufFsR/F5WWS48t+Tdsr86RbpnLnz2Gl3FY8ZsUYdfMmLmtYwj75uQn7Lr4GbRnDYKwvO7b6eNSfpO6NsH3YP2zPzo+ABwAc2hkHvOxCN76IyS/MWsnFTPViaV44dp+ANxrrqV0MBpV+xBdqcz+fRjSO+cVucfGbXORVLvi2tG8qb49+biyWVzde0NbKay33Lz5Hc+erF8o5xoDX9Tuf1+NjtT7F7V7u89yYphbKSI5fnktFHyPL57BSbistL7QxWk9eV0pdfbWgVu3rljGMzZ335PGoP7X948cq52fqd3yeJ+lYZuMS1w0AMDjzgBdf0HQXK+P2/IIm23+86N1NKDu+oC8vMmdEba4fk19UVdo5HlO/SCst7xe3I29Tdb12sbmx2L64L/v0c2PLOSzE+9fHYLl/ofzpmHzfWNiWBry8f71wgV3/h4F4/3pbe2FbOuZF+EmeF2VZcRuKPoVxj/Zf6nP9HLXC48nzcqYvxVxZmEtJmam8jd360hxtFWMWyk/Oe3nuegv9mdm2OIaJelvTx+Ofy3YmdSXj25v6Xe9jPDf6uuL+zLUPALibnf1HNMO3Klb/db3VXcRttrX7vtQeP14A9Rc83baZC8lYuJBKLuiTtsTCRdGmzqHeqA/hgmraNrR3qZ3FRdty+Z1wzNi2fP92mSuvezzdv/9WvtrF5iBvX96X/Fsv422L/RwslNdf2G+2Ddvz+RJt78/fUv/KOVfUEdWdzIdW+VheXrTetW0ayyKAjMoxL/Yt5mLax3Rco3nfbSu/RXOuz3PnKA0JWfnD0rU3OX7fudQuM3N66xxt1ca3ey6O9ZXtHvfP2zHOs/z8TupjOFfHQt1Ff7J94/NeOT9xv7fOz+o8KscSALi77Rfw9jJ/cXUW6hdH5UXjMQhtPcZ2rV4W2roL7vwCfLPe/pzMp3zfCyM8D9YbAtIQOKgEqQthy/xMg3og4AEApVUFvM2/mo8XQd0F0/m1gePXzZNw0ZzPjR3mSjVMcAfV/xGn/Meei2Nufo6P92tdv/vXOwEPAEitJuABd6P046DdIoQDAHexMwx4AAAAnCcBDwAAYCUEPAAAgJUQ8AAAAFZCwAMAAFgJAQ8AAGAlBDwAAICVEPAAAABWQsADAABYCQEPAABgJQQ8AACAlRDwAAAAVkLAAwAAWAkBDwAAYCUEPAAAgJUQ8AAAAFZCwAMAAFgJAQ8AAGAlBDwAAICVEPAAAABWQsADAABYCQEPAABgJQQ8AACAlRDwZt1srly60v4XAADgYjhowLv56KXm0qNnH4m6ei7Fy+Xm+q1+2+2nLjeXHrje3O5XTyEOeOHnS82Vl7qVU4vHKfx8qHK3unW9uRydn/M6XwAAwPm4kHfwilD00pU25B36btsZ3cELISsKoOca8MI4JYHudnP9gSkcAwAAF9t+Aa8NCJefutmGgunu2eWnpntl4e7ZuL5l36C72zZsmwJaCB3TMdMyBZEyFIUwNmxPQkz7eBumbsb15Hf3QuCK6pnKjQNeGoRCu6+81N/V2xyX9627O7bZngW6eN+0L5X2xiFzh/HP78htyk/Hul2G/WrHAAAAF9PeAS8OWn3wmQJKCAtxwFvat9seh618fUER8OJjw89xwFsMQWF73MZ4Pfw8H/DSO4ZpOXlomtbz+tpH8oC31N4tY5rXG8Tl17b3ATfuCwAAcFHtH/CygBCHhvBzEvAW9g3BIw4yfbjZLWiEY5O7UdldrqneSplxoAn7ZqFyCkTxsWXAS9seb8+CbLD5WGYlTJUBL2tv3J8dxj/fvjXgdXWmoRMAALiYTh3w4seS4LO4bx+C0pAWlhA0lrb1xaShKJPUWwuN02Nd4Cnq2QTPkwa8cFxZZhdCzyDgxY8JeAAAcHfbP+Bld7zi0JAEny37Loa0LfYLeFl4ye/gFYFn46QBL903cYiAt2X80/6Etgh4AABwtzjl7+CFcJAGiCTgLexbCyu72i/gpR8FDcem2+fCTdh2koA3F6SCsr69A94+Y9oFyvT8FO2qhE4AAOBiOsFHNK93d4U2Hz2Mg04R8Bb27XSBZdq+a+DbL+Bdaa6HYDNbRx+SpnZsAlQctvYLeEEXpuJyhzblbd874G0Z0y7Abups+xq+kTMtf9iWlJnUCAAAXFCn/x28OUcRHCqB6U4L43LCO5eHH9P0I5wAAMDFJuDdAd1dtpOMzYHH9MTtAAAAjpKAd5EcxZgCAADHar+ABwAAwNES8AAAAFZCwAMAAFgJAQ8AAGAlBDwAAICVEPAAAABWQsADAABYCQEPAABgJQQ8AACAlRDwAAAAVkLAAwAAWAkBDwAAYCUEPAAAgJUQ8AAAAFZCwAMAAFgJAQ8AAGAlBDwAAICVEPAAAABWQsADAABYCQEPAABgJQQ8AACAlRDwAAAAVkLAAwAAWIkLEvBuN9cfuNRcutQuD1xv1wAAAMgdNODdfLQNYI/eHNYO5/ZTl5Ny03puNleK0Nc+1obBKy8NwTBv00tX2rB4pd1rN139giUAAHDkLsQdvBCwLj81E69uXW8uZ+Er3X8T9obVbn33cLcRQuVUBgAAwPHZL+C9dKUNTjenj0u2Sxy8kmC1Zd+guzM2bKvfUYs+mtktl5vrt6J6ujtx0fYu6IUA1+83CvsNIXA2qEX7jOLHatsBAACOyN4BbxOyen0A2wSmPOAt7VsEpoUAld6Rq9SzQzkh2F1+IP2oZyq0Lw2G3TFjvZXgCAAAcET2D3hZQOruwg2PFcFrYd80PAXzH53cJ+DFdSTCRzkvLX/MMj02b08WUAEAAI7MqQNe/FgRvGb3zT96uVnqd8hOH/CGcPZUCHlLv38Xhbqi/QIeAABw3PYPeNnHH+NAtRS8gnjffb60JCm3tVRPXMdG/Fhte6xvVy3MCXgAAMBxO+Xv4IU7XlPoKYLXwr61ADgK26IQlpTbKuqJy8nXu49mzn/Usgh8Xd1XZv70gt/BAwAAjtcJPqJ5vQtIm49VLgavhX07YZ9hW7cMoaoLXVEoWwx4Q2Cbjo9/dy4LlRtd6Athbf5OXdHWyp9jAAAAOCan/x28Ofvse2DlF7jMaQPgjnfqdi8TAADgzlhlwJu9c7eLSru7O4ru3gEAAEdupQHvBEJ7u4+KLn3LJgAAwPHaL+ABAABwtAQ8AACAlRDwAAAAVkLAAwAAWAkBDwAAYCUEPAAAgJUQ8AAAAFZCwAMAAFgJAQ8AAGAlBDwAAICVEPAAAABWQsADAABYCQEPAABgJQQ8AACAlRDwAAAAVkLAAwAAWAkBDwAAYCUEPAAAgJUQ8AAAAFZCwAMAAFgJAQ8AAGAlBDwAAICVEPAAAABWQsC7CG5dby4/cL25PawCAADUnE/ACwHl0uXm+q1h/Q65+eil5tKjN4e1CyQOeLuOZdgv7+vm2H8f/n+pufLS8PhgMz63n7rcXBIoAQDgwnEH7yKIA96uXrpShNkQ4MZQF7ZfutKMe2T7J/sCAAAXwu4BLwSAPGSMj91urj/QhoUuNFwalig8tD9dGde37dvq7jRttuWhZHp8XIZgEu48XXkp1DVti0NK2H75qb4H2/YNujtam+2zAasto912M9z1qu3btjnUuSlrU/9sHztZu56KA148lkEYz2nfUPf347aEJYxPV186zqFNfXvyMlvjuQUAAC6KPe7ghSCRfjRwCghDyIjvGCUBIQ4Qu+wb15Ovz+s+WpgElfTYPOBt2zduY74+CcdFwa2V7DuE0jLAzfWxH594/y4cLoxlXPfGbu3v672c1dfL2wgAABy7vT6imYaEPGjkYSAOCHvsW7lzFAJOGUBKoX152JlCaLp9ed8yZM1/TDLu2yC+W1a7E7bUx8qdtjIAD9tr+w7yQBePQ6zbr1pGZQwAAICjtufv4EXhIoSOMUDUQlv82LaANz3WB47ho4XR0oWTUGdl26YdtdAWPzb388b0WGhvpZ5qEKoEvPixZJx6oZ6y7KiPeSBMwmVWdr7voKtjW8AbAuL1bN+egAcAABfN3l+y0t9pyi/+a2EgBJG5gLewbyUQ7SoPNUEcbOJQt7zvFDi3i/s5yO/g5f1Z6mMS5gZJkIvGsrbvYHvAi89D7ZzUHgMAAI7Z3gGvDydXui8WmeJCHwbiQNEFjFoo2WnfXcNVqitnrKfVBa2prLA9CXhb9p0NYUlAC+1Nw1MIU+P2aphb6mMZrLryFsayFsLy9m9bT0Jp5+TnAQAAuDP2D3hDqCjvBrVh4Kk2zIwfOczDQhxKlvYN+tA0bd8taITQcvmp68mxcfjpt08Bb2nfoAtB0fZNIOof37S571v3McfNfnH4nb1bt9DHLmxN25a/RTMrZ6wrejw8Ft/tC20qxnzo12afeH8AAOBCOEHAC8EhD1xDaNvpbs8+++4nDnDb7LPvsjxwHas+mO/6kcvyI50AAMCxO+FHNIt7PwLesHbUso+hzknu5AEAABfG7gGv+1hf+MhfLcwIeBci4AEAAKt2go9oAgAAcIwEPAAAgJUQ8AAAAFZCwAMAAFgJAQ8AAGAlBDwAAICVEPAAAABWQsADAABYCQEPAABgJQQ8AACAlRDwAAAAVkLAAwAAWAkBDwAAYCUEPAAAgJUQ8AAAAFZCwAMAAFgJAQ8AAGAlBDwAAICVEPAAAABWQsADAABYCQEPAABgJQQ8AACAlRDwAAAAVuJMA97tpy43l5+6PawdoZeuNJcevTmsXAS3m+sPXG6u3xpWTy2Ud6m5dKldHrjergEAABfZ7gHv1vXm8qUrTRKHusfywHGzuTI8dqqAF8peCF83H21DyZ7h7OajWVsvesDbMkbbhPNz8P5X58T+uvMbguewHPU/FAAAwJHY4w5eefeoC3DtY8nFd7jAH+4GnSrgHTx8Ve5+XfSAd8r2H/0d1lHl3AEAAIW9PqIZ7qpMgWC46H5pCnTdo9FdoT5AXG+uzN2J6e72RHdqomA4PhaWSohJwkleTn6nsburGG8fwkIXkK63/Yi2ZXUld5JmP8bYlh+2hfKS/dJ6k75v9t0swzHpGAdxuJl+3mWMgvRO2GZcQjnx41l4Cm3L+zo+Fo5ty0naH4936HNcz9K+rezcXXlpeDwRjwEAADBnv9/BCxfqmyAx3qmbPpIZhECxuUjvQ0h+8T9/oV4cOxNaging7XrxX6m7Cx7xY33wmWvDfJuGIJdsS8tK1+MQlNo14HVrO4xRsr0LU1O90xjm0nqCqV19P5Jyx/AXxH3bZd+4nso5apVjAgAA1Oz5JSvTxXscDqZglgaXMkCUwSEW71+Ek0xe/9K+vUp4iAPrYOpLH06mgNYaQ22uUnYWpoKpzX3Z6dj0yjATj1k6fstjVBvrtE/xGObSsuPzWis37v8e+yZhrzeNf5C2FwAAWLZnwJsuuJML8U1Qyi7YywCRX/CHi/3+o3mbZbP/cniplB3q7srIA8VGHEIGiwGvbFu/pKGtF4eawdiebInq6/rYPT4de7iAV+lvKy6/PD+xqE/JOOXnMIgfi8died+p/+kytimE5IU5AAAApPYMeP1Fef97dXGg6S/qr2eBoQwQeRBIL/7j/buL/4WL+7LsQeXOWa8SeBYDXi2czIlDzWD2bl9FaMewbxnw4nanbVoeo7BvfvcrfWx2DAf9WOTl1MqN2xiPxZZ9K+MPAACc3N4Brw8jbTAoglH7WBaIygARLvjjIBDvH9ZPcQdvFAeMWF5fazHgbW/DpFZnLdzMiMJgUWdo44kCXmV7Fn7nx3DQjc+V/gtkhof6NlxKyu3qGfeJx2KXfbNzEtsnJAMAACcIeN1FeSW4dEEkDTllgKgElPGjee2xbRnT/n093bZKiJnKHkLEWM58qJrqG9qwJeAFaRvbpdKWNNTE5toW9a1b4pCTHdPWN/39vnT8to1RkLY/PrbfthjwhrZUz+FT4Xxvyo37Ho/Ftn2DhbGozCkAAGDeCQIed48QvtJQOIa25LE5++wLAACcloDHvModTgEPAACOl4BHqftoZO3jlIGABwAAx0rAAwAAWAkBDwAAYCUEPAAAgJUQ8AAAAFZCwAMAAFgJAQ8AAGAlBDwAAICVEPAAAABWQsADAABYCQEPAABgJQQ8AACAlRDwAAAAVkLAAwAAWAkBDwAAYCUEPAAAgJUQ8AAAAFZCwAMAAFgJAQ8AAGAlBDwAAICVEPAAAABWYq+A9/777zfvvPNO84Mf/MBisVgsFovFYrFYLGewhMwVstdJ7BXwQkU/+clPhjUAAAAOLWSukL1OYq+AF9IkAAAAZ+uk2UvAAwAAODICHgAAwEoIeAAAACsh4AEAAKyEgAcAALASFyLg/dVf/VXz4osvNs8++2zzb/7Nv2m+8pWvNH/0R3/U/Nf/+l+HPQAAADjqgBeC3W//9m83n/nMZ5qvf/3rzZtvvtmV9cd//MfNc88913z605/uwh4AAABHHPD+5E/+pAtwr7766vBI3be+9a3mn//zf9785V/+5fAIAADA3ekoA17YP4S7H//4x8Mjy8KdvbC/j2wCAAB3s6MMeL/xG7+x9zHf+c53ut/PAwAAuFsdXcB75ZVXmt/93d8d1vbzuc99rrl9+/awBgAAcHc5uoD3hS98oXn77beHtf2Eu3jPP//8sHb23n36oeahp98d1i6aV5qr91xt/3ts3m1u/PI9zT33tMsv32jX7k6vPHZPc/XlYeUADl3esjOcW2/faB664/MizNGHmhsne5m6816+2j+/2uX85sRxOt/nxd3ggj83OJ2dX5/NEzhrRxfwHnvsseGn/YXf2fv85z8/rO0mvMFvLnb6ZfcXnWMMeF1/Htvl0nrhIjy8SO9UxuGFMd2t/XdWaOdZXhieZcDrxviQIamYL8cR8A52jor+XeSLk3BuXFhtxM+LXV87X3ksHb/dX3PPx51tT/rcOLaxuSgu7LgJeHA0ji7ghW/EPKn/9t/+297HhxfS5CKw+9ft3S5OjzHg7W7hIjyMwR16c7koY1rMmwM7dPln2t5ivhxHwDtYn4v+XfSAd0bn5gLaf464MF1mfO5qAh4cjaMLeOHbME8qfItm+IKWfZRv8Om/cHd3O2bu7o1hJFwA5i9q42Phhay9oArrc3cJw4viuO2eNOC0xz309CttGdP20N6kXVHdaUAKfZmOS4Nr/UIv7W+7dBe27b6hjk0fhvryfeN2h21XX07rj7eHcU+PfSPpYzxGaT3x2A1jO45f35+y7v6YpM6dAmwoPzqmXa6+XHss7Lsw1pVzmNef9LEd3xvxvMzmRzLXurLfHfu2GePF8sJ5HOpPx7Zf5uodH48Ux2/mS9v/G8m2dK6lx5XzcJKO69Wn0wuIvP6+/yc4RzPq/Qvlt3Pq6d2f09PYDXN281yqHRsJ9efPo/Q8pNvK5+A0Fld/O66zXTZzcOvrTz6/2jrbc/BKPDahrKSc+T7lz/3avAqW+z6M41jndC6T8uPnSis5n9nzImzL+z7u2y55WzZ9zI9L6sjGodanpM5I6Ee6bZh3m/Ky9m36mrSnO39Lrz3T/IiX2jnZ7bylbdyvLf3+Ux3x8zMf+2xb6PtmPLJzHvTjHj0XonNeLzPfNixde2fqW3i9zMcuHpP48eo5bKVtOfmcKvfty0ral52TtO3pGHVjMW5r+5y9Pi+/Dqb9AA7rKANeuBN3EqGe8IfR9xFevJI3qvCCu3mBin/uhBez2ptX+WIVyp22tS9u8YtmUm5aZjAd2+reAKLtwwvm9ALelx+/YS29uE/bQr35i3Uv7Je+yA8v4tkLfyotrysjfxPe9CP0aaasov2L52AY22R7pe5uDOPzHJcxr2jLKB3zmuTY/Bzmx+d9HM7xXPnJnC361tpWXtheG//kuHyM5sesG+/KfInHLtknb1++PirHubvYqO4bhHo3533Pc7Sg7N8w7+LHdh67bcemurrnnkdFH9P1/tj8nMVjFORtbR8pXn/ycQzHlK9BcR/KMZsR5uYp+p6PW15vsp6Pc/a8CPum/Y7r3ijHqzguaVO6/3KfUsl56IQ+b/YNx9XaV+tHXH45R/LzmJ7rGbPnLW7jfm0pxq4Yy0na7jAW2XMq0497Ns5L9WX9644fy6/Vl5/HaD2UW23bHucwGYe0rr5vu82pYt9QdvL8rpQdt717zmyOL+dL+vqctyNeT+cJcHhHF/CeffbZrX/cfM5zzz3X3Lx5c1jbTfeCFF6sx2V68Qvb8je7+E03fhFOXwjDC1n8Ipi9kMVvHrUX//gFvdhevnjn7Zje+DJJWXEbU8WLeqXO0sIbeyfa3r1J1MvLj1s+B+UbTFDUnbwp9WrlFro3v9oY1etNxGNdnMO0/nhO9ZbLT/oXyk7e/Hcor9Ke9qj0HM+UW2tTfb5k4xbVWbZvZi5WzlutXZNojuV9rqmOQ6nsX1zPIH9Oz47dlmMzxVxujeNXGZ94/7LdQTbWtTGI218d7/J8Fed0oU+pmXPfWux7N475+a08FrWjnHfp/nF95b4bob3p+cuPy+dcXFbZp8p8GNTbm87vWhuTOirnN25j3t6yzjlz5y3tz75tSeuenxtpWeU5yYV21OqerS9va/I8qNSXbO+Nfeuep7X27XYO4zHaiNu+z5wq9q28hkz11crp2zz1Kzs/8TgsjclCG4HDOLqAd+vWre7PHewrfDzzJF/QUnvx7EUvZJH4jSJ9sZx7c6i8kEUXHXF5o/iFMykrKN/04nakber7kATYsayynI2yTTP7hrbFZUdvYmk7gnwcorZFddXaP38OKmPbKuqOxntj/rznQt/7di63K+rPZtn0qziHcf31Pqbtm9qwWca2FGXvUN5Me+Ix68Y4qzOpNzKdj43KfBnrrIxTt1Te7MMx2XkrzmXYp1rOnudoQdm/UE7W3vw5HdcxLP3YLR+bK+Zya3ys6PuwDG2tHZufm7JvrcXXn6A8v8XzaUuf0jZXXltai32vjWPXrrjcuPzafEjbnZZd7tsLdaT1bjuu6+/sOan1o5c/J2v7dmWPfZweG4+rnL+4z2kdS/2O64rHNZe2cfe29HWn5YdlU1Zl+1hW5fUmUx/3rLxuGeoLbY3mb9f3hfrKsemXfGy7x7MxmI6tncP+uEPNqWLfyvN0OiflXA/GOZONUec0r4PAQR1dwAvC38H7+te/PqztJvyR8xdffHFY2138ZpdL3/x68WP5i2VfVv6CXHkhi19Uay+S8WPFm2L9zaVsU+WNISlr/k2xe2HeUmfZ7rSf+djk22PbxjQtJ36sXmZR9+Kb2K7i8czHNl9vxWNdnMO0/rItcXnlm2zSvy1l97L25cdUyqg+NmPn+TLss/PY10JCKCd+bszOwT3P0YKyf3E9g/w5PVvulmMzZd39+HXnf+G4oHgedLJzU4xhKx/joi/l+S3O6Uzbdporg8W+tyWXz/3aY5Ntz4t4vObn6PLzcWrfJH6sPCfzbS7LKuseRecsqaNy/tK+hTLzi+9SeS7mzlvan33akrYrlp6nTlLW/BzaKMd9qb5e2D4Gk2QuV+qrPk/qQrnVcZ45h7X948fKvs3PqWLfyvN0GpfKuMeP1Z7jUR+Wx2S+jcBhHGXAC65du9Z885vfHNaWhUAYPtp5EtOLWUX8YtVJ32CLF8vuBe1q/wvYw0PVF7LkhTEtM0he0IsXyfLNJW7H9HP+4tyv7/KmGMrYVmcxNmF9aWxq4zCot3+weA7qZRZlLL6J9fvv8uY8/8a3ZayLc5jWX/QxtLe9qOi35/MjrC/Nj9Ziea34mG5bbR7k9c4rx29mvsTjkZ2Punxc+3Ebj83LCevJ3CjPSb4+tXu+v2X/wrHZvlue05Ntx6a6uuOx7M7XXB9TxfOgk5+bsq3Lrz9BeX6T+RzM9Ckfy6J/ke19L8c4Lz+Rz5euvKndyXjNztFyvJaPS/dP9u3U+xEUfUnmdyYa76I92XgUrz1z4xXJ29KtV89b2p+921Id83ye9+tTWeV8zCXt2JitL1gqs7atnBdzqm0Jls7hAedUsm/leRqfk7B/cs6658ym7/l56Y+d2ro0JgvzBDiIow14we/8zu80Tz755Ozxf/zHf9x85jOfOdUfNy8uTHLhxTX8C96wxPvWX1jzf22rvNgWL6rhhXCqI3lBLd4UyzeXuB1Jm5K2t214ua13pzfFqD3d/rV9+77GbY7/PlR9bIbt2ZjGb17VF/rZc1AZ21ZRxuKbWN+P2hwI5cT1Fuclbs/SWIdt8bGtfN51b4yb49u25t/uN5Xdnoe2vOQcZ2UHS+XFxyT7DcvUrmxezr5Z7zBf8naG9bjs7PyMuguKab/0W9qW52Bcx07naK4NRf8q827bc3ocu12OnfRz+UZSVjxvijGItlefS7Vzk7c1P0/xeqcsI5/P831K6+q/VTFvT2+575VxHCw9b7c9z+LxSsuZ6poe7x/Lj8vndjwuxb4L/ei3TeWk83tufmV1VM5feq7K+VOe72DX85b2Z7+2tLKxG5+TyeNt+Tu/l/XKcR/M1dcKxyTbxjrm6ps5J7N17HgOg6yMk86pYt/F98ZeOg5ZuYuvz8FcH9M2ds/LrB3A6Rx1wAveeOON5gtf+EL37Zoh7IWPYj7xxBPdevg5/M7e8QgvZvUXVo5Ve868sdz1wkVMcqF5JMqLt7vH3dz3c9FdnOfvV/Ph4O7Rh9587pmPwEVy9AEvdvv27ebP//zPm7/8y78cHjky4V/Zqv/6CbA/Ac8F9ZkJ71fFP26Ff6Rcvhu2fvV/qC3uNgIcsQsV8I7W+PGJu/2NETgkAU/AO0thjKePz8UfobvLZR89DIu5CFwkAh4AAMBKCHgAAAArIeABAACshIAHAACwEgIeAADASgh4AAAAKyHgAQAArISABwAAsBLnEvDeeeed5ic/+cmwBgAAwKGFzBWy10nsFfDef//9rqKQJi0Wi8VisVgsFovFcvglZK6QvU5ir4AHAADA8RLwAAAAVkLAAwAAWAkBDwAAYCUEPAAAgJUQ8AAAAFZCwAMAAFgJAQ8AAGAl9gp43/7Bt5sPPv7B5gOf+IDFYrFYLBaLxWKxWM5gCZkrZK+T2CvghYqu/dG1YQ0AAIBDC5krZK+T2CvghTQJAADA2Tpp9hLwAAAAjoyABwAAsBICHgAAwEoIeAAAACsh4AEAAKyEgAcAALASRx/w3v7rpvnk7zfN//DrTXPPP2uaD366/f9jTfM/fa5pfuNbw04AAAAcd8B77A+a5r9vw9z/9WLT/NVPhwcHf/bjpvnU833Y+53vDg8CAADcxY424P1vzzTN3316WFnwzntNc9/n3c0DAAA4yoAX7tzl4e4r32+ah9vH/td/1TS/+ntN8+KfDxsG4SObX319WAEAALgLHV3AC79zFz6WufH//n9N87/8VlvGPyiXcJdv440fNs0Ho+MAAADuNkcX8MIXqoTfuduYC3ebJdzN2wh3/Z59bVi5AF557J7m6svDygEcurxlrzRX77na/vcMvH2jeeiXbzTvDqt3xrvNjV9+qLnx9rB60bx8tbnnnnu65fzmxDk6ijmyNmf4nObo7fz+EV5bHjNLAI7Z0QW88G2Zmy9UCR/LrIW6fPlPf93v/8KbTfNLN/qfdxZdCOcXxO8+/dCZXhyfZcALbb/nkBfA4YI6eVM/joB3sHNU9O8iB7xwbi5wON1FMkdCf3d4LuXnOKwf0zjd8fbEz+kdx5TUsc2pPQh4AOtxdAEv/CmEjfA7d7VAly9f+E6/fwiG/+Nn+p93suXN+KzviJ1lwDu44k39OALewfpc9O+iB7yV34nZY46MXJhucRfMG2YJeADrcXQBL/ydu43whSq1QJcv/+zrwwGt+PitZi8Sw8V97a5e/6/a0+PRxVD7pvfQ06+kx2Vvgt1dtc22tt4b8RtqFzajY+N2dWW/270Bh23h52CxvOhNONlvWObqrb3BF8d35fYXgzeSbenFYXrc0oVjOq5Xn07PS15/3/8TnKMZ9f4NAe/pdhzHbVngmx27cGxbbzgHc8dGQv1XX87GIDkP6bbN+Q/6Y6exuPrbcZ3tspmDWVvjMurzq62zPQevxGMTykrKmetT5dh4Pg/b392Mz2bb4lzMxieZI8O5GtuSzY12vzeq5ziUGc+PtI5x7DqVPs3OrVBOZa4k7Y3qaZdp7m7K3GEOJduGZawjko1rdZ9OXv+mvh3a0h071ZHMr4X6i/mbnPOgH/dirizVl23rl769c/WlrwHRec3bnoxP/HjtHAZZW048pyrnoBuLtPxk/LK2p2OU9bktK3n/aG1eDzbbx6NDG5J+AHBsju8OXvRFKeH362qBLl++9O/7/cOfTAjfprm74U26+mbVbysvOCbhDXJ80+zeeOOLnuz4sD1+kxzefOfKT/41dXhTT/bdVt7cm3ByXLg4iNucr0+6i4H84qStL75oSPbJ25evj8px7i4sqvsGod70ImtuDIPkHC0o+1eZGzuP3bZjU13dxUVhWtbUx3S9PzY/Z/EYBXlb20faMU7nbj6O4Zj4/A59ivpQjtlGfmy+b789PTZvY7yej0G7NZkjYXu6b+2cl+0NdczPpVqb5/sUy/vSCs/Pob3huFr7au1Jyi/mX3SOF+ZXLnltSeT1p2M635Z87MqxjMX1d2NYzN9YP+7pOC/Xl/YvPRfV+vKxG9dDufW27XMO43FI50zft93mVF9WvK17DszOgbTfQdh/rCvvc/b+kbcjWQ/HVtsIwLE4uoAXAlr4I+ZB+FMItUAXL//d/9407/+s3//pV5vmY/93//M+ujevcBERv1lW3pwL8Rtd5U0vvtBI3lw7y+WHNs2+Gbe2lld9E87e9GfKrbWpvPCIL2QGUZ1l+yr7B92FRaWcrF2T0M9NH/Y8RwvK/sX1DKKL9OWx23JsJjnXg3H8KuMT71+2O8jGujYGcfur412er+Kczvapcq6TfoTt2fgsjWdlDNL9o/Gu7TtYnMO1vhRtrrShOrcq/YvLD8dV2xjXsWUO5e1N2rqsNt96c/Xv0Jas7vk60m31+RubGcvZ+vK2hvXpNaJW39JrVdhWbd8u5zA/R0HS9ni8B7NzqjwHZV+i8mrlhMeG9pR9jscpHbNO3JfZNgJwLI4u4IU/WP6p54eVVvhTCLVgt1k+++1hx9bffrJpvvmnw8pJdG++C29yw2Pjx1bCsnmjq7zpjReo1bLi7UF4c07LHt+Ai7J3KG+mPfGbeneBkNWZ1BtZvJjYGOusjFO3ZBdqQTimdhEUPxb2qZaz5zlaUPYvlFO5sBzatTx2y8fmQln5mI+PFX0flqGttWPzc1P2rdXN9YWLwcr5Tedra7ZPlbmRPFZuXxzPrXMkGu/avoNyHKJ2VI8L2zfnsdKn6rgF8XGDYqzCPlEfx8c2dWyZQ/H5Cxb6HdeVjGthrv4tbQl1Z+V3yzg28/XX528sbtNgsb7Q1vx1dWp7WV+/f1le1N+xvmwMon5Vz2H1nMTtmelbdU6V56Dsy1ReOddb45zJx6g3Pb+nfqVL1K9qGwE4FkcX8ILwMc3wccuN2kc1w527ONyFb9D8n//lsHIK05tm/iZYeVOM3+gqb3rxBXFxcZyUF7/p95I37y1l97L25cfU3pRrj80oLxiWL07K9s0oLnxboZz44jHZHvq5Gas9z9GCsn9xPYP8ona23C3HZmoXY2H8uvO/cFyQzJNRdm6KMWzlY1z0pTy/xTmdbVs5n7t9x/KW506hVk/Sp2i89xrnqB1J+wYnbnOl/0l7Y/GcjevYPoe6/uQX34WyLfU5E8zVv6UtC2O+rf75tmzEbRos1tfqztsUTOI5W6tvr9eq6jjPnMPa/sljlb7NzqnyHJR9icqrzbfoseX3j8r5js22EYBjcZQB73e+2zT3fX5YGYQ/hRC+LTN8oUr4nbvNxzKD8JHO8O2b3789PHBi+Ztc/CZYXx/f6CpvesmbaP6GO1yE9Nvzi6CwHv2rcO0NdbG8VnzM7IVJXu+8cDGRtmHLxUnevln5uPbjNh6blxPWxzbveY4W+lv2Lxyb7RvGcWzL0thtOzbV1R2PZXe+5vqYql2wluembGsY48X5VZTRH5O0Y7ZP4dj4rkZ/bHoe8vlYtnFSjkEyR7rt28dreQ6Xx6X7V9pcHbdgW3tT07jm7VmaQ5XtVfm4hvX03Ezm6t+lLfUx31Z/ff7G4jZtLNW3XGZ1286vVbW29ObPYdrO082p9ByUfYnLCz+n+4c2jvvnfe5ec6a2pu3MJG2cHxMA7pyjDHhB+Khm+H28N344PDAj3LkL4e6rrw8P7CO8UbVvavGSXDRE27vHk/3bN8+X2zfFzRtd8qbXm970e91F3ub49s01/tay7g11LLt9w2zLS96MK2+2S+XFxyT7DcvUrvAGHW/LLuRG0X5duZU39rydYT0ue+4iari42OxXfkNiVEZb/iuPRW2M6tjpHM21oehfeUFVBpq5sdvl2El/oXYjKSueN8UYRNvLi7ygcm7ytubnKV7vlGXk83m+T/2xyTesFuNWuyjM2hjPxa1zJB7vub5Gj3eP5e3Ixnlbm6vjNsjbG74ldSgvfa63S9K+TR07zKFkrocl23+w+NqSmKt/h7Z0+8RtSefoXP31+RurjHtnvr7+mHTb1vrysez6tmuf2qV6DoOsjBPPqfIclH3Jy8vGISt38f2jNdvHuI3DPE9eFwC444424AUhtH3wsab5u0/3QW7zB9DDxzfDF6qE37kLH8s8/Z077gbhguUYL0RmLzovrMqFKwfVXZznQWA2HNxFuqCWzz3zEYC7y1EHvI1nX2uaX7rR/xHz8Hfuwp298G2Zp/pCFTgSAh776e8K5f9Ysb55tL/urlMecou7jQCwbhci4MGaCXjsL/v4XfwRurtc+ZF0cxGAu4uABwAAsBICHgAAwEoIeAAAACsh4AEAAKyEgAcAALASAh4AAMBKCHgAAAArIeABAACsxLkEvA8+/sHm2h9dG9YAAAA4tJC5QvY6ib0C3rd/8O2uopAmLRaLxWKxWCwWi8Vy+CVkrpC9TsJnLgEAAFZCwAMAAFgJAQ8AAGAlBDwAAICVEPAAAABWQsADAABYCQEPAABgJQQ8AACAldgr4L3//vvNO++80/zgBz+wWCwWi8VisVgsFssZLCFzhex1EnsFvFDRT37yk2ENAACAQwuZK2Svk9gr4IU0CQAAwNk6afYS8AAAAI6MgAcAALASAh4AAMBKCHgAAAArIeABAACshIAHAACwEkcf8P76r/+6+f3f//3m13/915vHHnus+fSnP90tv/mbv9n84R/+4bAXAAAARx3w/uAP/qALcy+99FLz05/+dHi09+Mf/7h54YUXutD3ve99b3gUAADg7nW0Ae/ZZ59tnn766WFt3nvvvddcu3bN3TwAAOCud5QBL9y52yXcxcJHNl9//fVhDQAA4O5zdAEv3JELH8vc17vvvnui4wAAANbi6AJe+EKV8Dt3JxHu+r322mvD2tl79+mHmoeefndYu2heaa7ec7X977F5t7nxy/c099zTLr98o107Mi9fbe557PhG7XDC+D/U3Hh7WD2AVx67p7n68rBy1s7y/Lx9o3noGOckAEDk6AJe+LbM/AtVdvUf/sN/aG7cuDGs7SZcfHZhYlx2v7g9xoDX9WenC9yFgBcuZO9QiAljekwB6pXHsvlwBAGvaNNBnW3A231+7ibMlyQ8HknAO9tzBAAw7+gCXvhWzJMKwfCzn/3ssLab4u5CuEDc8c7Wau/g3cEQc1xjWgk7dzzgHT6ApS7WHbzq8/eOB7yzPkcAAPOOLuCd9vfo9j2+vPgMwWe6OOvuKM3c3RvDSLiozC/8xsfCxV4bpML63F3CcOE4brsnDTjtcQ89/UpbxrQ9tDdpV1R3GpBCX6bj0uBaD3hpf9ulu1hu9w11bPow1JfvG7c7bLv6clp/vL27k5NseyPpYzxGaT3x2A1jO45f35+y7v6YpM6tISAfu6HeMAaP3UjbmpWV1BPPi8q5nG1HNif6vs20Kd83mw9L5yFIxyX0bW7sa+c4nIN+2+Z5lBzTtuVG9BwL2/oypuOmZZqPab3lPK0d39Wxw/nZXvZGOm5Xn04DXj6H+z7OnKPi8aV6AQBOblUBL3xBS/g2zX2Ei7TNxWcnXCBuLuLinzvhIi29+J0uVqfHg1BuciEbX2Qm5aZlBtOxrbBvvH24mJ8utPvyywvoUrot1Fu/yOwugJOL4uHidC6MdNLy+ovouPyon91FeL2sov2L52AY22R7pe5uDOPzHJexpLJffj4q4x/3LVnfcuwkPD7Xvu1tj+f04nlo5e0t2xgLx+bnONs3P1/DfN02P4s5H5eRr48q47dtjE9Rdmhjfd9W6Oe4bfs5mhsHAIDTOrqAFwJa+CPmJ/Hqq682X/nKV4a13XQXbd2/qG+W6QI2vlDeiC9E44u09EI5vhCuXKzHF4PhAjMPO/FFZ7G9vHjM2zF74ZiUlV6sx9K+BNsvWPN+lu2ItncX/fXy8uOWz0F5ER4UdXf1pX2tlVuq9LtyvqayKu3Zcq7n2hEez/ftbT8Xcf8Xz0N1/JbKj4/ty671p6xvqqNsTyue762yjLm5Wmn/ljHeuezKnMnbmYrL2X6Oau0EADiEowt44Q+Wv/DCC8Pafp588snmT//0T4e13cQXf6naxW96UZterEYXeMnFW3pR3Iku+msXycnFZXEhWF6Qxu1I29T3IQmwY1kzF7atsk0z+4a2xWVHF7VpO4J8HKK2RXXV2j9/Dipj2yrqjkPWYP68xyoX6pUL86mssH88Hptl7lxuacc4vnEbKm2q1FufD0E8ZrWysjHd+xyX/Yn7WB6Tt6EvI60zrXdSqW9xjPcoO5STh7lsHnXzMCln8xyZG9d433bJ2gkAcAhHF/CC8EUr4eOW+3jzzTebz3/+88Pa7pYusMO29GI0fSy/WO3Lyi86w3p2sRdfKNYuJOPHigvWcPG4S8DbdvFblrPRXbhuqbNsd9rPfGzy7bFtY5qWEz9WL7Oo+9wC3nwfO4vHLogDf9Gmso1x/5fPQ629UXl7n+Naf8Ix02O185v3f7dzE6Rld7aM8c5lV+ZMPB6hH/PPkfyc7NZOAIBDOMqA973vfa+5du3asLZd+EhnCIW3b98eHtnd4gVfcYGbXrgVF7jdRdvV/gtJhof6i7vsIjq5eCwv0EObxnKLC8H4QrIXt2P6Ob+o7NensspyNpYvXgf52IT1pbGpjcOg3v7B4jmol1mUsSXglf3dKM9NeT52Lau15dh58fjnbaqtzwfmfMyK9sbnMR/7eFurLLuVH9OF03R84rZVxyovY1Y+x1vh2KUxPkXZoZzNsXnbu/WdA16/Ph5faTMAwEkdZcALwkc1w+/jvfvu8qVYuHMXwt3rr78+PLKfrRfY4eIr+lhVvG95gdtfuC1dUHeKwNFflFc/ulVc/IV9dwl4raTtbRtebusdyyrLmUTt6fav7TtcpEb7xX/7qz42w/ZsTOML7vK41uw5qIxtqyhjMeD1/ZibA6Gsvt6o7cn5iMvqTccMy2b/HY7tZWPbLvXy+zal9bXnqa2nOh86+ZhldSXfoplv23aOe10Q2hzTjnv9WzSzOd8t0RxbmCOJaL+ujl3GeNeyh3A6lp98i2ba/v7bUaf25+corbN9LHou9vvOPRcBAPZztAEvCKEtfKvm008/3f0R880fQA8f3wxfqBJ+5y58LPMkd+7ORrjoiy+eOX7tOZu7wAcAgAvmqAPexmuvvdbcuHGj+yPmIfCFO3vh2zL3/UKVM1e5ewAAAHBeLkTAO3rjx698zAoAALhzBDwAAICVEPAAAABWQsADAABYCQEPAABgJQQ8AACAlRDwAAAAVkLAAwAAWAkBDwAAYCXOJeC98847zU9+8pNhDQAAgEMLmStkr5PYK+C9//77XUUhTVosFovFYrFYLBaL5fBLyFwhe53EXgEPAACA4yXgAQAArISABwAAsBICHgAAwEoIeAAAACsh4AEAAKyEgAcAALASAh4AAMBKCHgAAAArIeABAACshIAHAACwEgIeAADASgh4AAAAKyHgAQAArMRRBLwfv/TJ5uc+8XPNL73w/wyPAAAAsK87HvD6cPeB5gPd8nPNJ1/56bAFAACAfdzRgJeGu3b5J3+7+eKfDxsBAADYy5kHvB9/81ebn/snf7P55HfSO3M//U4l3P3HYSMAAAB7O9OA99NXso9fDiFPuAMAADi8s72D9+dfbP72P4mD3N9sfvVf/apwBwAAcAbO/COaP339N9OQJ9wBAACciXP5kpVqyBPuAAAADupcAl6QhDzhDgAA4ODOLeAFIeT90j/9JeEOAADgDJxrwAMAAODsCHgAAAArIeABAACshIAHAACwEgIeAADASgh4AAAAKyHgAQAAp/b6668PP3EnCXgAAMCpCXjHQcADAABOTcA7DgIeAABwagLecRDwAACAUxPwjoOABwAAF9E7N5uf/we/23xgXL7ZfGvYdCecJOB96wtx+3+3+fnn3m0ffbf54j/d/My+BDwAALhw+hD0gS+8MazfeXsHvO9+sw11zzVffGdYHwl4pyHgAQDAhbMUgt5oPhndFfvAP73Z3GofvfXcc+PPnS5gbe76pcd88rvdg3s5WcCr3XUc+vaFb053KON2z7U1lDfuN+yzCcDd3c6yrm5MFsr6YnSHcdyW3zkNdexc9xDMh2PH8zcc/62hPScZ/w0BDwAALqIuIIWgsPTRzD5sdIGhCxrTHbPu45FdCOlDRxpglsqs2/8jmlPYSYPq8HgWmPr2DduS8DT0Kf45jE0bED859KMItxXJPsPYbsYk3jaNW2THusOxU19Dv6JjwrnMyz0BAQ8AAC6w8ffYxnCQ3iWKg8oUMPLgl+5f/+jkshN/ycpY/6bOvv1TEIrW4yDVifftfw59CqHq5597o13v902DVWQMycOSBLwo5Mbr4zFxCN6l7uHOXrZ05yCv7xQEPAAAuOiigNAFvizsbQJet18IMZv/h8eK0HQyJw54nTKoTYEsWl8MeMPdsi/cbB/r9+nD1s3pTlksLysekzxw5eutrq42oO1ed3wnMlMp/6QEPAAAuHDeaL4VBYU+bFQC3nB3bAoV/ccCf74SoE778cB9A96t777Rh6lOH376Ni0EvLyt1ZDW9m8TlvL1WHZsN257BLygD3VDW3aoO6kjNlP+SQh4AABw4eQf94tCzhDqusfbMBG+KCS+a9SFjHj/TlZeLYRssXfAG+6AjUt217Ee8IK0rekdsWHbWFa+nurHYijnuXbcdgh48THpOO5S9xBQx+OjMCjgAQAAx+J0H9HkUAQ8AADg1AS84yDgAQAApybgHQcBDwAAODUB7zgIeAAAwKkJeMdBwAMAAFgJAQ8AAGAlBDwAAICVEPAAAABWQsADAABYCQEPAABgJQQ8AACAlRDwAAAAVkLAAwAAWAkBDwAAYCUEPAAAgJUQ8AAAAFZCwAMAAFgJAQ8AAGAlBDwAAICVEPAAAABWYq+A9+23ftT8jU+90HzgH/yuZWEJYxTGCgAA4DztFfC6cPf366HGEi3tGIWxAgAAOE97BbxqmLHMLgAAAOdJwDvDBQAA4DwJeGe4AAAAnCcB7wwXAACA8yTgneECAABwngS8M1wAAADOk4B3hgsAAMB5EvDOcAEAADhPAt4ZLgAAAOdJwDvDBQAA4DwJeGe4AAAAnKcLFfB+5U9+2rz7J69Wtx3jAgAAcJ7uQMB7tXnuvZ81P/tZtLx3u/mV6r7pctiA96fNd9u6v/vvhvWnbzfv/qc/zfY53QIAAHCezj3gPf6f2kB3wiB1pnfw/t1fnbhdcwsAAMB5uiMBb7xrli0hwOUhK96/D3i3uztvm7t/cVlh+3f/XX9nrt/+0+a5p4dQuXlsLD/cSey3d/WOx8T7nG4BAAA4T+f/Ec1wp2wIXvm2XQLez372V83j4/YQ5qayiu1dXXEIjPefAt547LnewXu1eeL+R5rnfjisdm43z33i/uaJ7w6rp/TqtcOVdQyW+nP7a4809xfjubv++Pvb5Yn2zER++FzzSPd4vzzytdvDBgAAOD536EtWprts8Ucudwl4+Uc0w/bNY8X28Ht1SSCMy7vTAa/13Sea+69FcSKsf+K5NuYdxt0R8PpQHILXq9dOGPBCiJsZ91e/Fj8e6jp5iAQAgLN2hwLetHQfnxy+ZOUkAS9+rBrwsi9wOaqAlwSGw4eHu+kOXnAWAS+395i2ZT8R3/XL189cO6+uHe4fDQAAOG53POD1d/P6u2xlyOq/cTMOeLUAeHEDXmtzFy+/m9cFvumjgfGdvSJkFMf2uv2utdvGjxhGASgcMz6++ehh+Nho9hHFqOxQ3nhMpb7a8VNbs/5E+82Wm7TxibYvpwt4ST2b+rNxWA5v8yE8LXvYJx/j3/psuj4EvXr/27Fsz/lz0bb+LmVl3xBQ2xAXj+90PqP9uzk0fx4AALj47nzAC78ntwlh8c9h6T5imQW8Lb+Dd+EC3njBnQaHcCEfh43ud8SioLVrwCsCU2W/Pgj0F/qhnk3wiANN+ni53lsIeG3d5f5L5eZl9WHlpAGvaG8Yi01o3vEOXiijPn6ZeJzzfmfry/2P+1tbH/ob2p/Mn35O9fu2+8V9mzkPAACswzkHvP6OXPKNlZUAFm97vA1eccBLvyVzCn+b7ScNePHvBR4q6O0sDgSdcPGe3VmJQsg+AS/Zr7vTM+zXhYLKnZw47Iw/53d9hqWos2z31IY+oKRBdqHcSp+K/mTmA94UVCdRW+M+zwntWdinC395H4I8UCXrS+Oaj2XYN1+PAl7WtiQoJttq5wEAgLU4go9ornfZWRFm8ov7VnQRf/qAl5efrm+CUggJ/fG1gFRTtrsMZZtQE/ZbKLfSpzsW8EJbtm2P2xqvtz8vB7y5NudjGfbN14dj9wp4G+H4zXkAAGAtBLwzXHaWB4RWHma6O0TDPvm2sJ4fHxSBaBPwwv/jC/tQf75+7YkkYMT1z8tDSVivhbIpnMyWm7dxtqzJmXxEM95vRt6H5Hzk5zZbnx/XPQNecWd0s56XE4v3AwBgDQS8M1x2loeATrj4DndYhiXe3l3QT9ue+Fq7XgkJswGv1YWQsezwBR1lmMrblBzTLrWw1QWWcZ8nmufa9W6/0Mfo2Ljs2XKTY6KyZiwFvCCpJw5tswEvOwebpRjrYbyGJT0f07bxjlqynrWrXfo+5sEstGUh4LXbnojaGofZsfzQx4XzAADAxSfgneEC52I2oAIAcLcR8M5wgXMh4AEAMBDwznCBcyHgAQAwEPDOcAEAADhPAt4ZLgAAAOdJwDvDBQAA4DwJeGe4AAAAnCcB7wwXAACA87RXwPsbn3qh+cDfr4cZS7S0YxTGCgAA4DztFfC+/daP+pBXCzWWcQljFMYKAADgPO0V8AAAADheAh4AAMBKCHgAAAArIeABAACshIAHAACwEgIeAADASgh4AAAAKyHgAQAArELT/P++qcHdEqud6QAAAABJRU5ErkJggg==)"
      ],
      "metadata": {
        "id": "658tw4PJIp97"
      }
    },
    {
      "cell_type": "markdown",
      "source": [
        "# Progreso en el curso.\n",
        "\n",
        "![dos.PNG](data:image/png;base64,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)"
      ],
      "metadata": {
        "id": "Tf9NRbZoHoTu"
      }
    }
  ]
}